{
 "cells": [
  {
   "cell_type": "code",
   "execution_count": 5,
   "metadata": {},
   "outputs": [
    {
     "name": "stdout",
     "output_type": "stream",
     "text": [
      "Collecting pymongo==3.5\n",
      "\u001b[?25l  Downloading https://files.pythonhosted.org/packages/60/15/34803ec534cd79599cf200adce3b5e4b40fcdadbf893797784b9a6ed47ab/pymongo-3.5.0-cp36-cp36m-manylinux1_x86_64.whl (365kB)\n",
      "\u001b[K    100% |████████████████████████████████| 368kB 2.2MB/s ta 0:00:01\n",
      "\u001b[?25hInstalling collected packages: pymongo\n",
      "  Found existing installation: pymongo 3.7.1\n",
      "    Uninstalling pymongo-3.7.1:\n",
      "      Successfully uninstalled pymongo-3.7.1\n",
      "Successfully installed pymongo-3.5.0\n"
     ]
    }
   ],
   "source": [
    "!pip install --upgrade pip\n",
    "!pip install pymongo==3.5\n",
    "!pip install --upgrade pymongo\n",
    "import pymongo"
   ]
  },
  {
   "cell_type": "markdown",
   "metadata": {},
   "source": [
    "**CONNECT**"
   ]
  },
  {
   "cell_type": "code",
   "execution_count": 8,
   "metadata": {},
   "outputs": [],
   "source": [
    "from pymongo import MongoClient\n",
    "# client = MongoClient('10.120.23.221','27017')\n",
    "client = MongoClient('mongodb://10.120.23.221:27017')\n",
    "# database_name 置換成想要創建/連線的DB連線\n",
    "db = client.database_name\n",
    "# collection_name 置換成想要創建/連線的collection\n",
    "collection = db.collection_name"
   ]
  },
  {
   "cell_type": "markdown",
   "metadata": {},
   "source": [
    "**INSERT**"
   ]
  },
  {
   "cell_type": "code",
   "execution_count": 22,
   "metadata": {
    "collapsed": true
   },
   "outputs": [
    {
     "data": {
      "text/plain": [
       "'\\n# JSON 是你要插入該collection的JSON檔\\ninsert = collection.insert_one(JSON).inserted_id\\ninsert #執行\\n'"
      ]
     },
     "execution_count": 22,
     "metadata": {},
     "output_type": "execute_result"
    }
   ],
   "source": [
    "'''\n",
    "# JSON 是你要插入該collection的JSON檔\n",
    "insert = collection.insert_one(JSON).inserted_id\n",
    "insert #執行\n",
    "'''"
   ]
  },
  {
   "cell_type": "markdown",
   "metadata": {},
   "source": [
    "**GET**"
   ]
  },
  {
   "cell_type": "code",
   "execution_count": 20,
   "metadata": {
    "collapsed": true
   },
   "outputs": [
    {
     "data": {
      "text/plain": [
       "'\\nimport pprint\\n# collection_name 置換成想要連線的collection\\npprint.pprint(collection_name.find_one())\\n# find_one 只找到第一筆，用for loop印出全部的內容\\nfor i in collection.find():\\n    pprint.pprint(i)\\n# find() 裏面可以增加query條件\\n'"
      ]
     },
     "execution_count": 20,
     "metadata": {},
     "output_type": "execute_result"
    }
   ],
   "source": [
    "'''\n",
    "import pprint\n",
    "# collection_name 置換成想要連線的collection\n",
    "pprint.pprint(collection_name.find_one())\n",
    "# find_one 只找到第一筆，用for loop印出全部的內容\n",
    "for i in collection.find():\n",
    "    pprint.pprint(i)\n",
    "# find() 裏面可以增加query條件\n",
    "'''"
   ]
  },
  {
   "cell_type": "code",
   "execution_count": null,
   "metadata": {},
   "outputs": [],
   "source": [
    "'''\n",
    "import pprint\n",
    "import pandas as pd\n",
    "cursor =  collection.find()\n",
    "df = pd.DataFrame(list(cursor))\n",
    "df\n",
    "'''"
   ]
  },
  {
   "cell_type": "markdown",
   "metadata": {},
   "source": [
    "**DELETE**"
   ]
  },
  {
   "cell_type": "code",
   "execution_count": 21,
   "metadata": {
    "collapsed": true
   },
   "outputs": [
    {
     "data": {
      "text/plain": [
       "\"\\n# drop collection\\ndb.drop_collection('collection_name')\\n# drop db\\nclient.drop_database('test_database')\\n\""
      ]
     },
     "execution_count": 21,
     "metadata": {},
     "output_type": "execute_result"
    }
   ],
   "source": [
    "'''\n",
    "# drop collection\n",
    "db.drop_collection('collection_name')\n",
    "# drop db\n",
    "client.drop_database('test_database')\n",
    "'''"
   ]
  },
  {
   "cell_type": "markdown",
   "metadata": {},
   "source": [
    "**TEST**"
   ]
  },
  {
   "cell_type": "code",
   "execution_count": 15,
   "metadata": {},
   "outputs": [],
   "source": [
    "db = client.clock\n",
    "collection = db.clockdata"
   ]
  },
  {
   "cell_type": "code",
   "execution_count": 31,
   "metadata": {
    "scrolled": true
   },
   "outputs": [
    {
     "data": {
      "text/html": [
       "<div>\n",
       "<style scoped>\n",
       "    .dataframe tbody tr th:only-of-type {\n",
       "        vertical-align: middle;\n",
       "    }\n",
       "\n",
       "    .dataframe tbody tr th {\n",
       "        vertical-align: top;\n",
       "    }\n",
       "\n",
       "    .dataframe thead th {\n",
       "        text-align: right;\n",
       "    }\n",
       "</style>\n",
       "<table border=\"1\" class=\"dataframe\">\n",
       "  <thead>\n",
       "    <tr style=\"text-align: right;\">\n",
       "      <th></th>\n",
       "      <th>_id</th>\n",
       "      <th>name</th>\n",
       "      <th>picture_url</th>\n",
       "      <th>price</th>\n",
       "      <th>produe_url</th>\n",
       "    </tr>\n",
       "  </thead>\n",
       "  <tbody>\n",
       "    <tr>\n",
       "      <th>0</th>\n",
       "      <td>5b800319776d1b1154de604d</td>\n",
       "      <td>Mpow Digital Alarm Clock, Curved-screen Clock ...</td>\n",
       "      <td>https://images-na.ssl-images-amazon.com/images...</td>\n",
       "      <td>$16.99</td>\n",
       "      <td>https://www.amazon.com/gp/slredirect/picassoRe...</td>\n",
       "    </tr>\n",
       "    <tr>\n",
       "      <th>1</th>\n",
       "      <td>5b800319776d1b1154de604e</td>\n",
       "      <td>GEEKERS Digital Alarm Clock, Wooden LED Alarm ...</td>\n",
       "      <td>https://images-na.ssl-images-amazon.com/images...</td>\n",
       "      <td>$20.99</td>\n",
       "      <td>https://www.amazon.com/gp/slredirect/picassoRe...</td>\n",
       "    </tr>\n",
       "    <tr>\n",
       "      <th>2</th>\n",
       "      <td>5b800319776d1b1154de604f</td>\n",
       "      <td>Travelwey Home LED Clock-Outlet Powered, No Fr...</td>\n",
       "      <td>https://images-na.ssl-images-amazon.com/images...</td>\n",
       "      <td>$19.97</td>\n",
       "      <td>https://www.amazon.com/Travelwey-Clock-Outlet-...</td>\n",
       "    </tr>\n",
       "    <tr>\n",
       "      <th>3</th>\n",
       "      <td>5b800319776d1b1154de6050</td>\n",
       "      <td>RCA Digital Alarm Clock with Large 1.4&amp;quot; D...</td>\n",
       "      <td>https://images-na.ssl-images-amazon.com/images...</td>\n",
       "      <td>$11.40</td>\n",
       "      <td>https://www.amazon.com/RCA-Digital-Alarm-Clock...</td>\n",
       "    </tr>\n",
       "    <tr>\n",
       "      <th>4</th>\n",
       "      <td>5b800319776d1b1154de6051</td>\n",
       "      <td>Mpow Projection Clock, FM Radio Alarm Clock, C...</td>\n",
       "      <td>https://images-na.ssl-images-amazon.com/images...</td>\n",
       "      <td>$26.99</td>\n",
       "      <td>https://www.amazon.com/Mpow-Projection-Curved-...</td>\n",
       "    </tr>\n",
       "    <tr>\n",
       "      <th>5</th>\n",
       "      <td>5b800319776d1b1154de6052</td>\n",
       "      <td>DreamSky Decent Alarm Clock Radio FM Radio, US...</td>\n",
       "      <td>https://images-na.ssl-images-amazon.com/images...</td>\n",
       "      <td>$25.99</td>\n",
       "      <td>https://www.amazon.com/DreamSky-Charging-Displ...</td>\n",
       "    </tr>\n",
       "    <tr>\n",
       "      <th>6</th>\n",
       "      <td>5b800319776d1b1154de6053</td>\n",
       "      <td>Philips Wake-Up Light Alarm Clock with Colored...</td>\n",
       "      <td>https://images-na.ssl-images-amazon.com/images...</td>\n",
       "      <td>$97.99</td>\n",
       "      <td>https://www.amazon.com/Philips-Wake-Up-Colored...</td>\n",
       "    </tr>\n",
       "    <tr>\n",
       "      <th>7</th>\n",
       "      <td>5b800319776d1b1154de6054</td>\n",
       "      <td>Emerson SmartSet Alarm Clock Radio, USB port f...</td>\n",
       "      <td>https://images-na.ssl-images-amazon.com/images...</td>\n",
       "      <td>$19.32</td>\n",
       "      <td>https://www.amazon.com/Emerson-SmartSet-Radio-...</td>\n",
       "    </tr>\n",
       "    <tr>\n",
       "      <th>8</th>\n",
       "      <td>5b800319776d1b1154de6055</td>\n",
       "      <td>Digital Alarm Clock, with Wooden Electronic LE...</td>\n",
       "      <td>https://images-na.ssl-images-amazon.com/images...</td>\n",
       "      <td>$17.99</td>\n",
       "      <td>https://www.amazon.com/Electronic-Settings-Tem...</td>\n",
       "    </tr>\n",
       "    <tr>\n",
       "      <th>9</th>\n",
       "      <td>5b800319776d1b1154de6056</td>\n",
       "      <td>Digital Alarm Clock, with Wooden Electronic LE...</td>\n",
       "      <td>https://images-na.ssl-images-amazon.com/images...</td>\n",
       "      <td>$17.99</td>\n",
       "      <td>https://www.amazon.com/gp/slredirect/picassoRe...</td>\n",
       "    </tr>\n",
       "    <tr>\n",
       "      <th>10</th>\n",
       "      <td>5b800319776d1b1154de6057</td>\n",
       "      <td>La Crosse Technology C86224 Dual USB Charging ...</td>\n",
       "      <td>https://images-na.ssl-images-amazon.com/images...</td>\n",
       "      <td>$24.94</td>\n",
       "      <td>https://www.amazon.com/gp/slredirect/picassoRe...</td>\n",
       "    </tr>\n",
       "    <tr>\n",
       "      <th>11</th>\n",
       "      <td>5b800319776d1b1154de6058</td>\n",
       "      <td>Peakeep 4&amp;quot; Twin Bell Alarm Clock with Ste...</td>\n",
       "      <td>https://images-na.ssl-images-amazon.com/images...</td>\n",
       "      <td>$13.99</td>\n",
       "      <td>https://www.amazon.com/Peakeep-Stereoscopic-Ba...</td>\n",
       "    </tr>\n",
       "    <tr>\n",
       "      <th>12</th>\n",
       "      <td>5b800319776d1b1154de6059</td>\n",
       "      <td>hOmeLabs Sunrise Alarm Clock - Digital LED Clo...</td>\n",
       "      <td>https://images-na.ssl-images-amazon.com/images...</td>\n",
       "      <td>$19.99</td>\n",
       "      <td>https://www.amazon.com/hOmeLabs-Sunrise-Alarm-...</td>\n",
       "    </tr>\n",
       "    <tr>\n",
       "      <th>13</th>\n",
       "      <td>5b800319776d1b1154de605a</td>\n",
       "      <td>Mesqool 7&amp;quot; Projection Alarm Clock for Bed...</td>\n",
       "      <td>https://images-na.ssl-images-amazon.com/images...</td>\n",
       "      <td>$26.99</td>\n",
       "      <td>https://www.amazon.com/Mesqool-Upgraded-Dimmab...</td>\n",
       "    </tr>\n",
       "    <tr>\n",
       "      <th>14</th>\n",
       "      <td>5b800319776d1b1154de605b</td>\n",
       "      <td>Peakeep Battery Digital Clock 2 Snooze, Option...</td>\n",
       "      <td>https://images-na.ssl-images-amazon.com/images...</td>\n",
       "      <td>$12.99</td>\n",
       "      <td>https://www.amazon.com/Peakeep-Battery-Digital...</td>\n",
       "    </tr>\n",
       "    <tr>\n",
       "      <th>15</th>\n",
       "      <td>5b800319776d1b1154de605c</td>\n",
       "      <td>Alarm Clock, Digital Clock, 3 Brightness Level...</td>\n",
       "      <td>https://images-na.ssl-images-amazon.com/images...</td>\n",
       "      <td>$17.99</td>\n",
       "      <td>https://www.amazon.com/Brightness-Bedrooms-Ele...</td>\n",
       "    </tr>\n",
       "    <tr>\n",
       "      <th>16</th>\n",
       "      <td>5b800319776d1b1154de605d</td>\n",
       "      <td>9&amp;quot; Large LED Digital Alarm Clock with USB...</td>\n",
       "      <td>https://images-na.ssl-images-amazon.com/images...</td>\n",
       "      <td>$23.99</td>\n",
       "      <td>https://www.amazon.com/Digital-Charger-Touch-A...</td>\n",
       "    </tr>\n",
       "    <tr>\n",
       "      <th>17</th>\n",
       "      <td>5b800319776d1b1154de605e</td>\n",
       "      <td>iTOMA Alarm Clock Radio, Digital FM Radio, Dua...</td>\n",
       "      <td>https://images-na.ssl-images-amazon.com/images...</td>\n",
       "      <td>$22.99</td>\n",
       "      <td>https://www.amazon.com/iTOMA-Digital-Charge-Ba...</td>\n",
       "    </tr>\n",
       "    <tr>\n",
       "      <th>18</th>\n",
       "      <td>5b800319776d1b1154de605f</td>\n",
       "      <td>Alarm Clock for Me free</td>\n",
       "      <td>https://images-na.ssl-images-amazon.com/images...</td>\n",
       "      <td>$0.99</td>\n",
       "      <td>https://www.amazon.com/Alarm-Clock-for-Me-free...</td>\n",
       "    </tr>\n",
       "    <tr>\n",
       "      <th>19</th>\n",
       "      <td>5b800319776d1b1154de6060</td>\n",
       "      <td>Plumeet Easy Setting Digital Travel Alarm Cloc...</td>\n",
       "      <td>https://images-na.ssl-images-amazon.com/images...</td>\n",
       "      <td>$13.99</td>\n",
       "      <td>https://www.amazon.com/Plumeet-Setting-Nightli...</td>\n",
       "    </tr>\n",
       "    <tr>\n",
       "      <th>20</th>\n",
       "      <td>5b800319776d1b1154de6061</td>\n",
       "      <td>Digital Alarm Clock, Dual Time (12/24) Mode, T...</td>\n",
       "      <td>https://images-na.ssl-images-amazon.com/images...</td>\n",
       "      <td>$20.99</td>\n",
       "      <td>https://www.amazon.com/gp/slredirect/picassoRe...</td>\n",
       "    </tr>\n",
       "    <tr>\n",
       "      <th>21</th>\n",
       "      <td>5b800319776d1b1154de6062</td>\n",
       "      <td>Wooden LED Digital Alarm Clock with Time, Temp...</td>\n",
       "      <td>https://images-na.ssl-images-amazon.com/images...</td>\n",
       "      <td>$17.99</td>\n",
       "      <td>https://www.amazon.com/gp/slredirect/picassoRe...</td>\n",
       "    </tr>\n",
       "    <tr>\n",
       "      <th>22</th>\n",
       "      <td>5b800319776d1b1154de6063</td>\n",
       "      <td>DreamSky Little Digital Alarm Clock with Snooz...</td>\n",
       "      <td>https://images-na.ssl-images-amazon.com/images...</td>\n",
       "      <td>$13.99</td>\n",
       "      <td>https://www.amazon.com/dp/B0784JHF7G/ref=sxbs_...</td>\n",
       "    </tr>\n",
       "    <tr>\n",
       "      <th>23</th>\n",
       "      <td>5b800319776d1b1154de6064</td>\n",
       "      <td>DreamSky Auto Time Set Alarm Clock With USB Po...</td>\n",
       "      <td>https://images-na.ssl-images-amazon.com/images...</td>\n",
       "      <td>$24.99</td>\n",
       "      <td>https://www.amazon.com/dp/B071LM1B22/ref=sxbs_...</td>\n",
       "    </tr>\n",
       "    <tr>\n",
       "      <th>24</th>\n",
       "      <td>5b800319776d1b1154de6065</td>\n",
       "      <td>Digital Alarm Clock, 3 Alarm Settings, with Wo...</td>\n",
       "      <td>https://images-na.ssl-images-amazon.com/images...</td>\n",
       "      <td>$24.10</td>\n",
       "      <td>https://www.amazon.com/dp/B07DQR5PQ4/ref=sxbs_...</td>\n",
       "    </tr>\n",
       "  </tbody>\n",
       "</table>\n",
       "</div>"
      ],
      "text/plain": [
       "                         _id  \\\n",
       "0   5b800319776d1b1154de604d   \n",
       "1   5b800319776d1b1154de604e   \n",
       "2   5b800319776d1b1154de604f   \n",
       "3   5b800319776d1b1154de6050   \n",
       "4   5b800319776d1b1154de6051   \n",
       "5   5b800319776d1b1154de6052   \n",
       "6   5b800319776d1b1154de6053   \n",
       "7   5b800319776d1b1154de6054   \n",
       "8   5b800319776d1b1154de6055   \n",
       "9   5b800319776d1b1154de6056   \n",
       "10  5b800319776d1b1154de6057   \n",
       "11  5b800319776d1b1154de6058   \n",
       "12  5b800319776d1b1154de6059   \n",
       "13  5b800319776d1b1154de605a   \n",
       "14  5b800319776d1b1154de605b   \n",
       "15  5b800319776d1b1154de605c   \n",
       "16  5b800319776d1b1154de605d   \n",
       "17  5b800319776d1b1154de605e   \n",
       "18  5b800319776d1b1154de605f   \n",
       "19  5b800319776d1b1154de6060   \n",
       "20  5b800319776d1b1154de6061   \n",
       "21  5b800319776d1b1154de6062   \n",
       "22  5b800319776d1b1154de6063   \n",
       "23  5b800319776d1b1154de6064   \n",
       "24  5b800319776d1b1154de6065   \n",
       "\n",
       "                                                 name  \\\n",
       "0   Mpow Digital Alarm Clock, Curved-screen Clock ...   \n",
       "1   GEEKERS Digital Alarm Clock, Wooden LED Alarm ...   \n",
       "2   Travelwey Home LED Clock-Outlet Powered, No Fr...   \n",
       "3   RCA Digital Alarm Clock with Large 1.4&quot; D...   \n",
       "4   Mpow Projection Clock, FM Radio Alarm Clock, C...   \n",
       "5   DreamSky Decent Alarm Clock Radio FM Radio, US...   \n",
       "6   Philips Wake-Up Light Alarm Clock with Colored...   \n",
       "7   Emerson SmartSet Alarm Clock Radio, USB port f...   \n",
       "8   Digital Alarm Clock, with Wooden Electronic LE...   \n",
       "9   Digital Alarm Clock, with Wooden Electronic LE...   \n",
       "10  La Crosse Technology C86224 Dual USB Charging ...   \n",
       "11  Peakeep 4&quot; Twin Bell Alarm Clock with Ste...   \n",
       "12  hOmeLabs Sunrise Alarm Clock - Digital LED Clo...   \n",
       "13  Mesqool 7&quot; Projection Alarm Clock for Bed...   \n",
       "14  Peakeep Battery Digital Clock 2 Snooze, Option...   \n",
       "15  Alarm Clock, Digital Clock, 3 Brightness Level...   \n",
       "16  9&quot; Large LED Digital Alarm Clock with USB...   \n",
       "17  iTOMA Alarm Clock Radio, Digital FM Radio, Dua...   \n",
       "18                            Alarm Clock for Me free   \n",
       "19  Plumeet Easy Setting Digital Travel Alarm Cloc...   \n",
       "20  Digital Alarm Clock, Dual Time (12/24) Mode, T...   \n",
       "21  Wooden LED Digital Alarm Clock with Time, Temp...   \n",
       "22  DreamSky Little Digital Alarm Clock with Snooz...   \n",
       "23  DreamSky Auto Time Set Alarm Clock With USB Po...   \n",
       "24  Digital Alarm Clock, 3 Alarm Settings, with Wo...   \n",
       "\n",
       "                                          picture_url   price  \\\n",
       "0   https://images-na.ssl-images-amazon.com/images...  $16.99   \n",
       "1   https://images-na.ssl-images-amazon.com/images...  $20.99   \n",
       "2   https://images-na.ssl-images-amazon.com/images...  $19.97   \n",
       "3   https://images-na.ssl-images-amazon.com/images...  $11.40   \n",
       "4   https://images-na.ssl-images-amazon.com/images...  $26.99   \n",
       "5   https://images-na.ssl-images-amazon.com/images...  $25.99   \n",
       "6   https://images-na.ssl-images-amazon.com/images...  $97.99   \n",
       "7   https://images-na.ssl-images-amazon.com/images...  $19.32   \n",
       "8   https://images-na.ssl-images-amazon.com/images...  $17.99   \n",
       "9   https://images-na.ssl-images-amazon.com/images...  $17.99   \n",
       "10  https://images-na.ssl-images-amazon.com/images...  $24.94   \n",
       "11  https://images-na.ssl-images-amazon.com/images...  $13.99   \n",
       "12  https://images-na.ssl-images-amazon.com/images...  $19.99   \n",
       "13  https://images-na.ssl-images-amazon.com/images...  $26.99   \n",
       "14  https://images-na.ssl-images-amazon.com/images...  $12.99   \n",
       "15  https://images-na.ssl-images-amazon.com/images...  $17.99   \n",
       "16  https://images-na.ssl-images-amazon.com/images...  $23.99   \n",
       "17  https://images-na.ssl-images-amazon.com/images...  $22.99   \n",
       "18  https://images-na.ssl-images-amazon.com/images...   $0.99   \n",
       "19  https://images-na.ssl-images-amazon.com/images...  $13.99   \n",
       "20  https://images-na.ssl-images-amazon.com/images...  $20.99   \n",
       "21  https://images-na.ssl-images-amazon.com/images...  $17.99   \n",
       "22  https://images-na.ssl-images-amazon.com/images...  $13.99   \n",
       "23  https://images-na.ssl-images-amazon.com/images...  $24.99   \n",
       "24  https://images-na.ssl-images-amazon.com/images...  $24.10   \n",
       "\n",
       "                                           produe_url  \n",
       "0   https://www.amazon.com/gp/slredirect/picassoRe...  \n",
       "1   https://www.amazon.com/gp/slredirect/picassoRe...  \n",
       "2   https://www.amazon.com/Travelwey-Clock-Outlet-...  \n",
       "3   https://www.amazon.com/RCA-Digital-Alarm-Clock...  \n",
       "4   https://www.amazon.com/Mpow-Projection-Curved-...  \n",
       "5   https://www.amazon.com/DreamSky-Charging-Displ...  \n",
       "6   https://www.amazon.com/Philips-Wake-Up-Colored...  \n",
       "7   https://www.amazon.com/Emerson-SmartSet-Radio-...  \n",
       "8   https://www.amazon.com/Electronic-Settings-Tem...  \n",
       "9   https://www.amazon.com/gp/slredirect/picassoRe...  \n",
       "10  https://www.amazon.com/gp/slredirect/picassoRe...  \n",
       "11  https://www.amazon.com/Peakeep-Stereoscopic-Ba...  \n",
       "12  https://www.amazon.com/hOmeLabs-Sunrise-Alarm-...  \n",
       "13  https://www.amazon.com/Mesqool-Upgraded-Dimmab...  \n",
       "14  https://www.amazon.com/Peakeep-Battery-Digital...  \n",
       "15  https://www.amazon.com/Brightness-Bedrooms-Ele...  \n",
       "16  https://www.amazon.com/Digital-Charger-Touch-A...  \n",
       "17  https://www.amazon.com/iTOMA-Digital-Charge-Ba...  \n",
       "18  https://www.amazon.com/Alarm-Clock-for-Me-free...  \n",
       "19  https://www.amazon.com/Plumeet-Setting-Nightli...  \n",
       "20  https://www.amazon.com/gp/slredirect/picassoRe...  \n",
       "21  https://www.amazon.com/gp/slredirect/picassoRe...  \n",
       "22  https://www.amazon.com/dp/B0784JHF7G/ref=sxbs_...  \n",
       "23  https://www.amazon.com/dp/B071LM1B22/ref=sxbs_...  \n",
       "24  https://www.amazon.com/dp/B07DQR5PQ4/ref=sxbs_...  "
      ]
     },
     "execution_count": 31,
     "metadata": {},
     "output_type": "execute_result"
    }
   ],
   "source": [
    "import pandas as pd\n",
    "cursor =  collection.find()\n",
    "df = pd.DataFrame(list(cursor))\n",
    "df"
   ]
  },
  {
   "cell_type": "code",
   "execution_count": null,
   "metadata": {},
   "outputs": [],
   "source": []
  }
 ],
 "metadata": {
  "kernelspec": {
   "display_name": "Python 3",
   "language": "python",
   "name": "python3"
  },
  "language_info": {
   "codemirror_mode": {
    "name": "ipython",
    "version": 3
   },
   "file_extension": ".py",
   "mimetype": "text/x-python",
   "name": "python",
   "nbconvert_exporter": "python",
   "pygments_lexer": "ipython3",
   "version": "3.6.1"
  }
 },
 "nbformat": 4,
 "nbformat_minor": 2
}
