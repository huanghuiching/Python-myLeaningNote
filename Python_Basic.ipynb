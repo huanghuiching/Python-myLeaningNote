{
 "cells": [
  {
   "cell_type": "markdown",
   "metadata": {},
   "source": [
    "## [Python 數字與字串]"
   ]
  },
  {
   "cell_type": "markdown",
   "metadata": {},
   "source": [
    "#### 1. 數字"
   ]
  },
  {
   "cell_type": "code",
   "execution_count": 7,
   "metadata": {},
   "outputs": [
    {
     "data": {
      "text/plain": [
       "3.3333333333333335"
      ]
     },
     "execution_count": 7,
     "metadata": {},
     "output_type": "execute_result"
    }
   ],
   "source": [
    "# /除法 (含小數點)\n",
    "10 / 3"
   ]
  },
  {
   "cell_type": "code",
   "execution_count": 6,
   "metadata": {},
   "outputs": [
    {
     "data": {
      "text/plain": [
       "1"
      ]
     },
     "execution_count": 6,
     "metadata": {},
     "output_type": "execute_result"
    }
   ],
   "source": [
    "# // 除法 (無條件捨去)\n",
    "5 // 3"
   ]
  },
  {
   "cell_type": "code",
   "execution_count": 8,
   "metadata": {},
   "outputs": [
    {
     "data": {
      "text/plain": [
       "8"
      ]
     },
     "execution_count": 8,
     "metadata": {},
     "output_type": "execute_result"
    }
   ],
   "source": [
    "# ** 乘冪/次方\n",
    "2**3"
   ]
  },
  {
   "cell_type": "code",
   "execution_count": 10,
   "metadata": {},
   "outputs": [
    {
     "data": {
      "text/plain": [
       "(1, 2)"
      ]
     },
     "execution_count": 10,
     "metadata": {},
     "output_type": "execute_result"
    }
   ],
   "source": [
    "# (商,餘數) divmod(被除數,除數)\n",
    "divmod(5,3)"
   ]
  },
  {
   "cell_type": "code",
   "execution_count": 13,
   "metadata": {},
   "outputs": [
    {
     "name": "stdout",
     "output_type": "stream",
     "text": [
      "2 8 16 10\n"
     ]
    }
   ],
   "source": [
    "# 轉為十進位表示法：二進位(0b), 八進位(0o), 16進位(0x)\n",
    "a = 0b10\n",
    "b = 0o10\n",
    "c = 0x10\n",
    "d = 10\n",
    "print(a,b,c,d)"
   ]
  },
  {
   "cell_type": "markdown",
   "metadata": {},
   "source": [
    "#### 2. 字串"
   ]
  },
  {
   "cell_type": "code",
   "execution_count": 14,
   "metadata": {},
   "outputs": [
    {
     "name": "stdout",
     "output_type": "stream",
     "text": [
      "NaNaNaNa\n",
      "HeyHeyHey\n",
      "Goodbye.\n"
     ]
    }
   ],
   "source": [
    "# String：用 * 表示複製\n",
    "start = 'Na' * 4 + '\\n'\n",
    "middle = 'Hey' * 3 + '\\n'\n",
    "end = 'Goodbye.'\n",
    "print(start + middle + end)"
   ]
  },
  {
   "cell_type": "code",
   "execution_count": 15,
   "metadata": {},
   "outputs": [
    {
     "ename": "TypeError",
     "evalue": "'str' object does not support item assignment",
     "output_type": "error",
     "traceback": [
      "\u001b[1;31m---------------------------------------------------------------------------\u001b[0m",
      "\u001b[1;31mTypeError\u001b[0m                                 Traceback (most recent call last)",
      "\u001b[1;32m<ipython-input-15-352c986d841d>\u001b[0m in \u001b[0;36m<module>\u001b[1;34m()\u001b[0m\n\u001b[0;32m      1\u001b[0m \u001b[1;31m# 字串有不可更變性\u001b[0m\u001b[1;33m\u001b[0m\u001b[1;33m\u001b[0m\u001b[0m\n\u001b[0;32m      2\u001b[0m \u001b[0mstr\u001b[0m \u001b[1;33m=\u001b[0m \u001b[1;34m'sorry'\u001b[0m\u001b[1;33m\u001b[0m\u001b[0m\n\u001b[1;32m----> 3\u001b[1;33m \u001b[0mstr\u001b[0m\u001b[1;33m[\u001b[0m\u001b[1;36m0\u001b[0m\u001b[1;33m]\u001b[0m \u001b[1;33m=\u001b[0m \u001b[1;34m'd'\u001b[0m\u001b[1;33m\u001b[0m\u001b[0m\n\u001b[0m",
      "\u001b[1;31mTypeError\u001b[0m: 'str' object does not support item assignment"
     ]
    }
   ],
   "source": [
    "# 字串有不可更變性\n",
    "str = 'sorry'\n",
    "str[0] = 'd'"
   ]
  },
  {
   "cell_type": "code",
   "execution_count": 18,
   "metadata": {},
   "outputs": [
    {
     "name": "stdout",
     "output_type": "stream",
     "text": [
      "dorry\n",
      "dorry\n"
     ]
    }
   ],
   "source": [
    "# 但是可以用.replace()或者slice的方法更變字串\n",
    "print(str.replace('s','d'))\n",
    "print('d' + str[1:])"
   ]
  },
  {
   "cell_type": "code",
   "execution_count": 32,
   "metadata": {},
   "outputs": [
    {
     "name": "stdout",
     "output_type": "stream",
     "text": [
      "Wrd\n",
      "H\n",
      "World\n",
      "drWle\n"
     ]
    }
   ],
   "source": [
    "# slice 字串截斷 [start:end:step]\n",
    "sli = 'HelloWorld'\n",
    "print(sli[5::2]) #從第五個字開始，間格2個字計\n",
    "print(sli[0]) #index一律從0開始\n",
    "print(sli[-5:]) #從尾巴算起第幾個數字\n",
    "print(sli[-1::-2]) ##倒數"
   ]
  },
  {
   "cell_type": "code",
   "execution_count": 38,
   "metadata": {},
   "outputs": [
    {
     "name": "stdout",
     "output_type": "stream",
     "text": [
      "['I', 'am', 'Mollie.']\n",
      "['I', 'am', 'Mollie.']\n"
     ]
    }
   ],
   "source": [
    "# string.split() 如果沒有輸入切割的標準，預設為 空白 \\n 和 \\t\n",
    "str = 'I am Mollie.'\n",
    "print(str.split(' '))\n",
    "print(str.split())"
   ]
  },
  {
   "cell_type": "code",
   "execution_count": 39,
   "metadata": {},
   "outputs": [
    {
     "data": {
      "text/plain": [
       "'Mollie, Nola, Yin, HYL, Tom'"
      ]
     },
     "execution_count": 39,
     "metadata": {},
     "output_type": "execute_result"
    }
   ],
   "source": [
    "# 把字串集用某種符號分開來 ''.join([])\n",
    "member = ['Mollie','Nola','Yin','HYL','Tom']\n",
    "', '.join(member)"
   ]
  },
  {
   "cell_type": "code",
   "execution_count": 41,
   "metadata": {},
   "outputs": [
    {
     "name": "stdout",
     "output_type": "stream",
     "text": [
      "I am a girl\n",
      "I am a boy.\n"
     ]
    }
   ],
   "source": [
    "# strip() 去除句首句尾特定直(預設為 空白 \\n 和 \\t)\n",
    "str = '...I am a girl...'\n",
    "print(str.strip('.'))\n",
    "str = ' I am a boy.   \\t   \\n'\n",
    "print(str.strip())"
   ]
  },
  {
   "cell_type": "code",
   "execution_count": 45,
   "metadata": {},
   "outputs": [
    {
     "name": "stdout",
     "output_type": "stream",
     "text": [
      "My name is mollie.\n",
      "My Name Is Mollie.\n",
      "MY NAME IS MOLLIE.\n",
      "go and fight!\n",
      "gO AND fIGHT!\n"
     ]
    }
   ],
   "source": [
    "# 將字母大小寫\n",
    "str = 'my name is Mollie.'\n",
    "print(str.capitalize()) #第一個字母\n",
    "print(str.title()) #每個字的字首\n",
    "print(str.upper()) #全部轉換\n",
    "str = 'Go and Fight!'\n",
    "print(str.lower()) #全部小寫\n",
    "print(str.swapcase()) #大小寫互換"
   ]
  },
  {
   "cell_type": "code",
   "execution_count": 51,
   "metadata": {},
   "outputs": [
    {
     "name": "stdout",
     "output_type": "stream",
     "text": [
      "         I am Mollie          \n",
      "I am Mollie                   \n",
      "                   I am Mollie\n"
     ]
    }
   ],
   "source": [
    "#字串對齊\n",
    "str = 'I am Mollie'\n",
    "print(str.center(30)) #在30個空格置中\n",
    "print(str.ljust(30)) #在30空格置左\n",
    "print(str.rjust(30)) # 在30空格置右"
   ]
  },
  {
   "cell_type": "code",
   "execution_count": 59,
   "metadata": {},
   "outputs": [
    {
     "name": "stdout",
     "output_type": "stream",
     "text": [
      "I am Nola, Nola is my Eng Name.\n",
      "I am Nola, Mollie is my Eng Name.\n"
     ]
    }
   ],
   "source": [
    "# .replace(舊詞, 新詞, 取代次數)字串替代\n",
    "str = 'I am Mollie, Mollie is my Eng Name.'\n",
    "print(str.replace('Mollie', 'Nola'))\n",
    "print(str.replace('Mollie', 'Nola', 1)) # 可以指定取代次數"
   ]
  },
  {
   "cell_type": "code",
   "execution_count": null,
   "metadata": {},
   "outputs": [],
   "source": []
  },
  {
   "cell_type": "markdown",
   "metadata": {},
   "source": [
    "## [Python Container]"
   ]
  },
  {
   "cell_type": "markdown",
   "metadata": {},
   "source": [
    "#### 1. [ ]串列\n",
    "- 很適合用來追蹤東西的順序，特別是其順序與內容可能會改變的時候。"
   ]
  },
  {
   "cell_type": "code",
   "execution_count": 61,
   "metadata": {},
   "outputs": [
    {
     "data": {
      "text/plain": [
       "['Mon', 'Tue', 'Wed', 'Thu', 'Fri', 'Sat', 'Sun']"
      ]
     },
     "execution_count": 61,
     "metadata": {},
     "output_type": "execute_result"
    }
   ],
   "source": [
    "# 順序優點(舉例:周一至日)\n",
    "weekdays = ['Mon','Tue','Wed','Thu','Fri','Sat','Sun']\n",
    "weekdays"
   ]
  },
  {
   "cell_type": "code",
   "execution_count": 62,
   "metadata": {},
   "outputs": [
    {
     "data": {
      "text/plain": [
       "['Huang', 'Lin', 'Chen', 'Cheng', 'Hsu', 'Lin']"
      ]
     },
     "execution_count": 62,
     "metadata": {},
     "output_type": "execute_result"
    }
   ],
   "source": [
    "# 可重複性質\n",
    "first_name = ['Huang','Lin','Chen','Cheng','Hsu','Lin']\n",
    "first_name"
   ]
  },
  {
   "cell_type": "code",
   "execution_count": 63,
   "metadata": {},
   "outputs": [
    {
     "data": {
      "text/plain": [
       "['M', 'o', 'l', 'l', 'i', 'e']"
      ]
     },
     "execution_count": 63,
     "metadata": {},
     "output_type": "execute_result"
    }
   ],
   "source": [
    "# 將字串轉換為單字字元串列\n",
    "str = 'Mollie'\n",
    "list(str)"
   ]
  },
  {
   "cell_type": "code",
   "execution_count": 64,
   "metadata": {},
   "outputs": [
    {
     "data": {
      "text/plain": [
       "['Snoopy', 'Woodstock', 'Charlie Brown']"
      ]
     },
     "execution_count": 64,
     "metadata": {},
     "output_type": "execute_result"
    }
   ],
   "source": [
    "# 可以將tuple轉換成一個串列\n",
    "aTuple = ('Snoopy', 'Woodstock', 'Charlie Brown')\n",
    "list(aTuple)"
   ]
  },
  {
   "cell_type": "code",
   "execution_count": 65,
   "metadata": {},
   "outputs": [
    {
     "data": {
      "text/plain": [
       "['Cindy',\n",
       " 'Mollie',\n",
       " 'Ula',\n",
       " 'Alan',\n",
       " 'Ethel',\n",
       " 'Aris',\n",
       " 'Mao',\n",
       " 'Far',\n",
       " 'Katrina',\n",
       " 'Owen']"
      ]
     },
     "execution_count": 65,
     "metadata": {},
     "output_type": "execute_result"
    }
   ],
   "source": [
    "# slpit後也是回傳一個串列\n",
    "str = 'Cindy,Mollie,Ula,Alan,Ethel,Aris,Mao,Far,Katrina,Owen'\n",
    "str.split(',')"
   ]
  },
  {
   "cell_type": "code",
   "execution_count": 68,
   "metadata": {},
   "outputs": [
    {
     "name": "stdout",
     "output_type": "stream",
     "text": [
      "['Snoopy', 'Woodstock', 'Charlie Brown']\n",
      "Snoopy\n",
      "Woodstock\n",
      "Charlie Brown\n",
      "Charlie Brown\n",
      "Woodstock\n",
      "Snoopy\n"
     ]
    }
   ],
   "source": [
    "# 使用位移植取串列項目\n",
    "print(list(aTuple))\n",
    "print(list(aTuple)[0])\n",
    "print(list(aTuple)[1])\n",
    "print(list(aTuple)[2])\n",
    "print(list(aTuple)[-1])\n",
    "print(list(aTuple)[-2])\n",
    "print(list(aTuple)[-3])"
   ]
  },
  {
   "cell_type": "code",
   "execution_count": 78,
   "metadata": {},
   "outputs": [
    {
     "name": "stdout",
     "output_type": "stream",
     "text": [
      "[['Mollie', 'HuiChing', 'SquirrEl'], ['SnoopyHolic', 'sleepyGuy', 'lowMemory'], ['NCHU', 'iii', 'CGHS'], ['car', 'scooter', 'bike']]\n",
      "['Mollie', 'HuiChing', 'SquirrEl']\n",
      "Mollie\n",
      "[['Mollie', 'HuiChing', 'SquirrEl'], ['SnoopyHolic', 'sleepyGuy', 'lowMemory']]\n",
      "[['Mollie', 'HuiChing', 'SquirrEl'], ['SnoopyHolic', 'sleepyGuy', 'lowMemory'], ['NCHU', 'iii', 'CGHS'], ['car', 'scooter', 'Bycicle']]\n"
     ]
    }
   ],
   "source": [
    "# 串列中的串列\n",
    "tag = ['SnoopyHolic', 'sleepyGuy', 'lowMemory']\n",
    "education = ['NCHU','iii','CGHS']\n",
    "asset = ['car', 'scooter', 'bike']\n",
    "title = ['Mollie', 'HuiChing', 'SquirrEl']\n",
    "userData = [title, tag, education, asset]\n",
    "print(userData)\n",
    "print(userData[0])\n",
    "print(userData[0][0])\n",
    "print(userData[:2][:])\n",
    "# 用位移植來更變值\n",
    "userData[3][2] = 'Bycicle'\n",
    "print(userData)"
   ]
  },
  {
   "cell_type": "code",
   "execution_count": 85,
   "metadata": {},
   "outputs": [
    {
     "name": "stdout",
     "output_type": "stream",
     "text": [
      "[['Mollie', 'HuiChing', 'SquirrEl'], ['SnoopyHolic', 'sleepyGuy', 'lowMemory'], ['NCHU', 'iii', 'CGHS'], ['car', 'scooter', 'Bycicle'], ['cheese', 'matcha', 'chocolate'], ['cheese', 'matcha', 'chocolate'], 'cheese', 'matcha', 'chocolate', ['cheese', 'matcha', 'chocolate']]\n",
      "[['Mollie', 'HuiChing', 'SquirrEl'], ['SnoopyHolic', 'sleepyGuy', 'lowMemory'], ['NCHU', 'iii', 'CGHS'], ['car', 'scooter', 'Bycicle'], ['cheese', 'matcha', 'chocolate'], ['cheese', 'matcha', 'chocolate'], 'cheese', 'matcha', 'chocolate', ['cheese', 'matcha', 'chocolate'], 'cheese', 'matcha', 'chocolate']\n",
      "[['Mollie', 'HuiChing', 'SquirrEl'], ['SnoopyHolic', 'sleepyGuy', 'lowMemory'], ['cheese', 'matcha', 'chocolate'], ['NCHU', 'iii', 'CGHS'], ['car', 'scooter', 'Bycicle'], ['cheese', 'matcha', 'chocolate'], ['cheese', 'matcha', 'chocolate'], 'cheese', 'matcha', 'chocolate', ['cheese', 'matcha', 'chocolate'], 'cheese', 'matcha', 'chocolate']\n"
     ]
    }
   ],
   "source": [
    "#增加項目\n",
    "# .append() 會整個串列掛在最後面\n",
    "food = ['cheese', 'matcha', 'chocolate']\n",
    "userData.append(food)\n",
    "print(userData)\n",
    "# .extend() 會把內容物掏出來加到串列裡面\n",
    "userData.extend(food)\n",
    "print(userData)\n",
    "# .insert(index, ) 必須搭配位移值\n",
    "userData.insert(2, food)\n",
    "print(userData)"
   ]
  },
  {
   "cell_type": "code",
   "execution_count": 123,
   "metadata": {},
   "outputs": [
    {
     "data": {
      "text/plain": [
       "'c'"
      ]
     },
     "execution_count": 123,
     "metadata": {},
     "output_type": "execute_result"
    }
   ],
   "source": [
    "# 用位移值刪除項目\n",
    "del userData[-1]\n",
    "userData\n",
    "# 用remove()移除只知道名稱的項目\n",
    "userData[4].remove('chocolate')\n",
    "print(userData)\n",
    "# 用 pop(位移值) print該值，並且將之移除串列\n",
    "popList = ['a','b','c','d']\n",
    "popList.pop(2)"
   ]
  },
  {
   "cell_type": "code",
   "execution_count": 110,
   "metadata": {},
   "outputs": [
    {
     "name": "stdout",
     "output_type": "stream",
     "text": [
      "0\n",
      "True\n"
     ]
    }
   ],
   "source": [
    "#關鍵字查詢在串列裡面的位移值\n",
    "print(userData[0].index('Mollie'))\n",
    "# 用in檢查是否有關鍵字(回傳布林值)\n",
    "print('Mollie' in userData[0])"
   ]
  },
  {
   "cell_type": "code",
   "execution_count": 114,
   "metadata": {},
   "outputs": [
    {
     "name": "stdout",
     "output_type": "stream",
     "text": [
      "2\n"
     ]
    },
    {
     "data": {
      "text/plain": [
       "str"
      ]
     },
     "execution_count": 114,
     "metadata": {},
     "output_type": "execute_result"
    }
   ],
   "source": [
    "# 用.count()計算次數\n",
    "print(first_name.count('Lin'))\n",
    "# 用 ' '.join(串列) 轉換成字串\n",
    "type(\" \".join(first_name))"
   ]
  },
  {
   "cell_type": "markdown",
   "metadata": {},
   "source": [
    "* .sort()是串列專用的函式；sorted()則是容器通用的函式"
   ]
  },
  {
   "cell_type": "code",
   "execution_count": 120,
   "metadata": {},
   "outputs": [
    {
     "name": "stdout",
     "output_type": "stream",
     "text": [
      "a_list = ['a', 'c', 'a', 'f', 'd', 'v', 'z', 'x']\n",
      "b_list = ['a', 'c', 'a', 'f', 'd', 'v', 'z', 'x']\n",
      "a_list.sort(), a_list = ['a', 'a', 'c', 'd', 'f', 'v', 'x', 'z']\n",
      "sorted(b_list), b_list = ['a', 'c', 'a', 'f', 'd', 'v', 'z', 'x']\n",
      "c_list = sorted(b_list), c_list = ['a', 'a', 'c', 'd', 'f', 'v', 'x', 'z']\n"
     ]
    }
   ],
   "source": [
    "#串列.sort(reverse=True/False) 會直接修改串列的排序(reverse可以決定升冪或降冪)\n",
    "#sorted(串列) 會return一個新的串列\n",
    "a_list = ['a','c','a','f','d','v','z','x']\n",
    "b_list = ['a','c','a','f','d','v','z','x']\n",
    "print('a_list =',a_list)\n",
    "print('b_list =',b_list)\n",
    "a_list.sort()\n",
    "sorted(b_list)\n",
    "c_list = sorted(b_list)\n",
    "print('a_list.sort(), a_list =',a_list)\n",
    "print('sorted(b_list), b_list =',b_list)\n",
    "print('c_list = sorted(b_list), c_list =',c_list)"
   ]
  },
  {
   "cell_type": "code",
   "execution_count": 125,
   "metadata": {},
   "outputs": [
    {
     "name": "stdout",
     "output_type": "stream",
     "text": [
      "a= [4, 2, 3, 4, 5, 6, 7, 8] ,\n",
      "b= [4, 2, 3, 4, 5, 6, 7, 8] ,\n",
      "c= [1, 2, 3, 4, 5, 6, 7, 8] ,\n",
      "d= [1, 2, 3, 4, 5, 6, 7, 8] ,\n",
      "e= [2, 3]\n"
     ]
    }
   ],
   "source": [
    "#複製串列\n",
    "a = [1,2,3,4,5,6,7,8]\n",
    "b = a  #這個a和b依舊指向相同的記憶體空間\n",
    "c = list(a)\n",
    "d = a.copy()\n",
    "e = a[1:3]\n",
    "a[0] = 4\n",
    "print('a=',a,',\\nb=',b,',\\nc=',c,',\\nd=',d,',\\ne=',e)"
   ]
  },
  {
   "cell_type": "markdown",
   "metadata": {},
   "source": [
    "#### 2. Tuple"
   ]
  },
  {
   "cell_type": "code",
   "execution_count": 133,
   "metadata": {},
   "outputs": [],
   "source": [
    "#真正定義tuple的是逗號\n",
    "aTuple = 'a','b'"
   ]
  },
  {
   "cell_type": "code",
   "execution_count": 134,
   "metadata": {},
   "outputs": [
    {
     "data": {
      "text/plain": [
       "('a', 'b')"
      ]
     },
     "execution_count": 134,
     "metadata": {},
     "output_type": "execute_result"
    }
   ],
   "source": [
    "aTuple"
   ]
  },
  {
   "cell_type": "code",
   "execution_count": 5,
   "metadata": {},
   "outputs": [
    {
     "name": "stdout",
     "output_type": "stream",
     "text": [
      "t1: a \n",
      "t2: b \n",
      "t3: c\n"
     ]
    }
   ],
   "source": [
    "# tuple可以一次指派給多個變數\n",
    "marx_tuple = 'a','b','c'\n",
    "t1,t2,t3 = marx_tuple\n",
    "print('t1:',t1, '\\nt2:',t2,'\\nt3:',t3)"
   ]
  },
  {
   "cell_type": "markdown",
   "metadata": {},
   "source": [
    "#### 3. 字典 Dictionary\n",
    "- key:value，key是隨意排序的\n",
    "- key是唯一值\n",
    "- 合併字典：`.update()`\n",
    "- 刪除項目：`del` dict[ ]\n",
    "- 刪除所有項目：`.clear()`\n",
    "- 查詢key值是否存在：`in`\n",
    "- 取值：`.get()`\n",
    "- 取所有key值：`.keys()`\n",
    "- 取所有value：`.values()`\n",
    "- 跟串列一樣可以用`.copy()`來複製"
   ]
  },
  {
   "cell_type": "code",
   "execution_count": 39,
   "metadata": {},
   "outputs": [
    {
     "data": {
      "text/plain": [
       "{'Ethel': 'Hsu', 'Mollie': 'Lin', 'James': 'Huang', 'Audrey': 'Chen'}"
      ]
     },
     "execution_count": 39,
     "metadata": {},
     "output_type": "execute_result"
    }
   ],
   "source": [
    "dict = {'Ethel':'Hsu','Mollie':'Lin','James':'Huang','Audrey':'Chen'}\n",
    "dict"
   ]
  },
  {
   "cell_type": "markdown",
   "metadata": {},
   "source": [
    "- 不用擔心因為指定的索引值超出範圍而讓python丟出例外"
   ]
  },
  {
   "cell_type": "code",
   "execution_count": 40,
   "metadata": {},
   "outputs": [
    {
     "name": "stdout",
     "output_type": "stream",
     "text": [
      "{'Ethel': 'Hsu', 'Mollie': 'Lin', 'James': 'Huang', 'Audrey': 'Chen', 'Chelsea': 'Peng'}\n"
     ]
    }
   ],
   "source": [
    "dict['Chelsea'] = 'Peng'\n",
    "print(dict)"
   ]
  },
  {
   "cell_type": "code",
   "execution_count": 41,
   "metadata": {},
   "outputs": [
    {
     "data": {
      "text/plain": [
       "{'Ethel': 'Hsu',\n",
       " 'Mollie': 'Huang',\n",
       " 'James': 'Huang',\n",
       " 'Audrey': 'Chen',\n",
       " 'Chelsea': 'Peng'}"
      ]
     },
     "execution_count": 41,
     "metadata": {},
     "output_type": "execute_result"
    }
   ],
   "source": [
    "dict['Mollie'] = 'Huang'\n",
    "dict"
   ]
  },
  {
   "cell_type": "code",
   "execution_count": 34,
   "metadata": {},
   "outputs": [
    {
     "data": {
      "text/plain": [
       "{'Ethel': 'Hsu',\n",
       " 'Mollie': 'Lin',\n",
       " 'James': 'Huang',\n",
       " 'Audrey': 'Chen',\n",
       " 'Chelsea': 'Peng',\n",
       " 'Andrew': 'Lai',\n",
       " 'Stacie': 'Chang',\n",
       " 'Sophia': 'Shih'}"
      ]
     },
     "execution_count": 34,
     "metadata": {},
     "output_type": "execute_result"
    }
   ],
   "source": [
    "dictA = {'Andrew':'Lai','Stacie':'Chang','Sophia':'Shih'}\n",
    "dict.update(dictA)\n",
    "dict"
   ]
  },
  {
   "cell_type": "code",
   "execution_count": 42,
   "metadata": {},
   "outputs": [
    {
     "data": {
      "text/plain": [
       "{'Mollie': 'Huang', 'James': 'Huang', 'Audrey': 'Chen', 'Chelsea': 'Peng'}"
      ]
     },
     "execution_count": 42,
     "metadata": {},
     "output_type": "execute_result"
    }
   ],
   "source": [
    "del dict['Ethel']\n",
    "dict"
   ]
  },
  {
   "cell_type": "code",
   "execution_count": 43,
   "metadata": {},
   "outputs": [
    {
     "data": {
      "text/plain": [
       "{}"
      ]
     },
     "execution_count": 43,
     "metadata": {},
     "output_type": "execute_result"
    }
   ],
   "source": [
    "dict.clear()\n",
    "dict"
   ]
  },
  {
   "cell_type": "code",
   "execution_count": 50,
   "metadata": {},
   "outputs": [
    {
     "name": "stdout",
     "output_type": "stream",
     "text": [
      "False True\n"
     ]
    }
   ],
   "source": [
    "print('Lai' in dictA, 'Andrew' in dictA)"
   ]
  },
  {
   "cell_type": "code",
   "execution_count": 57,
   "metadata": {},
   "outputs": [
    {
     "name": "stdout",
     "output_type": "stream",
     "text": [
      "Chang\n",
      "not in dictA\n",
      "None\n"
     ]
    }
   ],
   "source": [
    "#找尋某鍵值後面可補上如果沒有找到會回應的值，否則只會回傳none(互動編譯器不會顯示任何值)\n",
    "print(dictA.get('Stacie', 'not in dictA'))\n",
    "print(dictA.get('Stac', 'not in dictA'))\n",
    "print(dictA.get('Stac'))"
   ]
  },
  {
   "cell_type": "code",
   "execution_count": 70,
   "metadata": {},
   "outputs": [
    {
     "name": "stdout",
     "output_type": "stream",
     "text": [
      "dict_keys(['Andrew', 'Stacie', 'Sophia'])\n",
      "Andrew\n",
      "dict_values(['Lai', 'Chang', 'Shih'])\n",
      "Lai\n",
      "dict_items([('Andrew', 'Lai'), ('Stacie', 'Chang'), ('Sophia', 'Shih')])\n",
      "('Andrew', 'Lai')\n",
      "Andrew\n"
     ]
    }
   ],
   "source": [
    "#回傳一個可迭代的鍵資料([])，必須用list()轉化為串列\n",
    "print(dictA.keys())\n",
    "print(list(dictA.keys())[0])\n",
    "print(dictA.values())\n",
    "print(list(dictA.values())[0])\n",
    "print(dictA.items()) # 鍵與值以tuple形式回傳\n",
    "print(list(dictA.items())[0])\n",
    "print(list(dictA.items())[0][0])"
   ]
  },
  {
   "cell_type": "markdown",
   "metadata": {},
   "source": [
    "## [Python Shell]\n",
    "- `#`當註解，`\\`當換行"
   ]
  },
  {
   "cell_type": "code",
   "execution_count": 72,
   "metadata": {},
   "outputs": [
    {
     "data": {
      "text/plain": [
       "'I am Mollie.'"
      ]
     },
     "execution_count": 72,
     "metadata": {},
     "output_type": "execute_result"
    }
   ],
   "source": [
    "# 我是註解\n",
    "sample = 'I am \\\n",
    "Moll\\\n",
    "ie\\\n",
    ".'\n",
    "sample"
   ]
  },
  {
   "cell_type": "markdown",
   "metadata": {},
   "source": [
    "### 1. 條件判斷(True or False)\n",
    "#### 甚麼是True？False以外的就是True！\n",
    "- boolean == False\n",
    "- null(none) == Flase\n",
    "- 0 == False (整數和浮點數的0都是)\n",
    "\n",
    "#### 在每個container的空值也是False\n",
    "- '' == False\n",
    "- [] == False\n",
    "- () == False \n",
    "- {} == False\n",
    "- set() == False"
   ]
  },
  {
   "cell_type": "code",
   "execution_count": 74,
   "metadata": {},
   "outputs": [
    {
     "name": "stdout",
     "output_type": "stream",
     "text": [
      "Woe!\n"
     ]
    }
   ],
   "source": [
    "disaster = True\n",
    "if disaster: # if disaster == True:\n",
    "    print('Woe!')\n",
    "else:\n",
    "    print('Whee!')"
   ]
  },
  {
   "cell_type": "markdown",
   "metadata": {},
   "source": [
    "### 2. if, else, elif, while True...."
   ]
  },
  {
   "cell_type": "code",
   "execution_count": 108,
   "metadata": {},
   "outputs": [
    {
     "name": "stdout",
     "output_type": "stream",
     "text": [
      "nothing in the list!\n"
     ]
    }
   ],
   "source": [
    "sample = []\n",
    "if sample:\n",
    "    print('Something in the list!')\n",
    "else:\n",
    "    print('nothing in the list!')"
   ]
  },
  {
   "cell_type": "code",
   "execution_count": 77,
   "metadata": {},
   "outputs": [
    {
     "name": "stdout",
     "output_type": "stream",
     "text": [
      "0\n",
      "1\n",
      "2\n",
      "3\n",
      "4\n"
     ]
    }
   ],
   "source": [
    "cnt = 0\n",
    "while cnt < 5:\n",
    "    print(cnt)\n",
    "    cnt += 1"
   ]
  },
  {
   "cell_type": "code",
   "execution_count": 86,
   "metadata": {},
   "outputs": [
    {
     "name": "stdout",
     "output_type": "stream",
     "text": [
      "Leave a message here [type q to quit]: 123\n",
      "123\n",
      "Leave a message here [type q to quit]: 456\n",
      "456\n",
      "Leave a message here [type q to quit]: \n",
      "\n",
      "Leave a message here [type q to quit]: q\n"
     ]
    }
   ],
   "source": [
    "while True:\n",
    "    stuff = input(\"Leave a message here [type q to quit]: \")\n",
    "    if stuff == 'q':\n",
    "        break\n",
    "    print(stuff.capitalize())"
   ]
  },
  {
   "cell_type": "code",
   "execution_count": 89,
   "metadata": {},
   "outputs": [
    {
     "name": "stdout",
     "output_type": "stream",
     "text": [
      "Type a number to calculate square [type q to quit]: 12\n",
      "it's a even number.\n",
      "Type a number to calculate square [type q to quit]: 2\n",
      "it's a even number.\n",
      "Type a number to calculate square [type q to quit]: 4\n",
      "it's a even number.\n",
      "Type a number to calculate square [type q to quit]: 9\n",
      "9 squared is 81\n",
      "Type a number to calculate square [type q to quit]: efef\n",
      "Your input is not an integer.\n",
      "Type a number to calculate square [type q to quit]: q\n"
     ]
    }
   ],
   "source": [
    "while True:\n",
    "    try:\n",
    "        stuff = input(\"Type a number to calculate square [type q to quit]: \")\n",
    "        if stuff == 'q':\n",
    "            break\n",
    "        number = int(stuff)\n",
    "        if number % 2 == 0:\n",
    "            print('it\\'s a even number.')\n",
    "            continue\n",
    "        print(number, \"squared is\", number*number)\n",
    "    except ValueError:\n",
    "        print('Your input is not an integer.')\n",
    "        continue"
   ]
  },
  {
   "cell_type": "code",
   "execution_count": 91,
   "metadata": {},
   "outputs": [
    {
     "name": "stdout",
     "output_type": "stream",
     "text": [
      "No even number found\n"
     ]
    }
   ],
   "source": [
    "# while loop , even as a break checker\n",
    "numbers = [1,3,5]\n",
    "position = 0\n",
    "while position < len(numbers):\n",
    "    number = numbers[position]\n",
    "    if number % 2 == 0:\n",
    "        print(\"found even number: \", number)\n",
    "        break\n",
    "    position += 1\n",
    "else:\n",
    "    print('No even number found')"
   ]
  },
  {
   "cell_type": "markdown",
   "metadata": {},
   "source": [
    "### 3. 迭代\n",
    "- `for`\n",
    "- `for` + `zip()`"
   ]
  },
  {
   "cell_type": "code",
   "execution_count": 105,
   "metadata": {},
   "outputs": [
    {
     "name": "stdout",
     "output_type": "stream",
     "text": [
      "M\n",
      "o\n",
      "l\n",
      "l\n",
      "i\n",
      "e\n",
      "Mollie\n",
      "Stacie\n",
      "Audrey\n",
      "Chelsea\n",
      "Andrew\n",
      "Stacie\n",
      "Sophia\n",
      "Lai\n",
      "Chang\n",
      "Shih\n",
      "Lai\n",
      "Chang\n",
      "Shih\n",
      "Andrew 's first name is Lai\n",
      "Stacie 's first name is Chang\n",
      "Sophia 's first name is Shih\n"
     ]
    }
   ],
   "source": [
    "# for i in container/string\n",
    "for i in 'Mollie':\n",
    "    print(i)\n",
    "sample = ['Mollie', 'Stacie', 'Audrey', 'Chelsea']\n",
    "for i in sample:\n",
    "    print(i)\n",
    "for i in dictA:\n",
    "    print(i)\n",
    "for i in dictA.values():\n",
    "    print(i)\n",
    "for i in dictA.items():\n",
    "    print(i[1])\n",
    "for name, first_name in dictA.items():\n",
    "    print(name,'\\'s first name is', first_name)    "
   ]
  },
  {
   "cell_type": "code",
   "execution_count": 107,
   "metadata": {},
   "outputs": [
    {
     "name": "stdout",
     "output_type": "stream",
     "text": [
      "This is not much of a cheese shop,is it?\n",
      "This is not much of a cheese shop,is it?\n"
     ]
    }
   ],
   "source": [
    "cheeses = []\n",
    "for cheese in cheeses:\n",
    "    print('This shop has some lovely',cheese)\n",
    "    break\n",
    "else:\n",
    "    print('This is not much of a cheese shop,is it?')\n",
    "# 上下兩個都有同樣的效果(else 和另外用一個if)\n",
    "found_one = False\n",
    "for cheese in cheeses:\n",
    "    found_one = True\n",
    "    print('This shop has some lovely',cheese)\n",
    "    break\n",
    "if not found_one:\n",
    "    print('This is not much of a cheese shop,is it?')"
   ]
  },
  {
   "cell_type": "code",
   "execution_count": 111,
   "metadata": {},
   "outputs": [
    {
     "name": "stdout",
     "output_type": "stream",
     "text": [
      "On Mon , I have sandwiches for breakfast, fried rice for lunch, and cake for afternoon tea dessert.\n",
      "On Tue , I have bagles for breakfast, none for lunch, and scone for afternoon tea dessert.\n",
      "On Wed , I have fried noodles for breakfast, apple for lunch, and cookies for afternoon tea dessert.\n"
     ]
    }
   ],
   "source": [
    "# 套用zip()迭帶多個序列\n",
    "# 儘管串列長度不一，但是會屈就最短的那個\n",
    "days = ['Mon','Tue', 'Wed','Thu','Fri','Sat','Sun']\n",
    "breakfast = ['sandwiches', 'bagles', 'fried noodles','none']\n",
    "lunch = ['fried rice', 'none', 'apple',]\n",
    "desserts = ['cake', 'scone', 'cookies', 'pie']\n",
    "for day, breakfast, lunch, dessert in zip(days,breakfast,lunch,desserts):\n",
    "    print('On',day,', I have',breakfast,'for breakfast,',lunch,'for lunch, and',dessert, 'for afternoon tea dessert.')"
   ]
  },
  {
   "cell_type": "code",
   "execution_count": 4,
   "metadata": {},
   "outputs": [
    {
     "data": {
      "text/plain": [
       "{'Mon': 'lunes', 'Tue': 'elmartes', 'Wed': 'miercoles'}"
      ]
     },
     "execution_count": 4,
     "metadata": {},
     "output_type": "execute_result"
    }
   ],
   "source": [
    "#利用dict(zip())製作字典\n",
    "english = 'Mon', 'Tue', 'Wed'\n",
    "spanish = 'lunes', 'elmartes', 'miercoles'\n",
    "# list(zip(english,spanish))\n",
    "dict(zip(english,spanish)) # windows不能運行，爛！"
   ]
  },
  {
   "cell_type": "markdown",
   "metadata": {},
   "source": [
    "### 3. range(start, stop, step)\n",
    "- 和slice很像[start:stop:step]，但是他的分隔符號是逗號，而且是一個公式"
   ]
  },
  {
   "cell_type": "code",
   "execution_count": 138,
   "metadata": {},
   "outputs": [],
   "source": [
    "#會回傳可迭代的東西，所以可以用for loop將值取出，或者轉成list\n",
    "ran = range(0,5,2)\n",
    "ran_list = list(range(0,5,2))"
   ]
  },
  {
   "cell_type": "code",
   "execution_count": 145,
   "metadata": {},
   "outputs": [
    {
     "name": "stdout",
     "output_type": "stream",
     "text": [
      "0\n",
      "2\n",
      "4\n",
      "ran: range(0, 5, 2)\n",
      "ran_list: [0, 2, 4]\n"
     ]
    }
   ],
   "source": [
    "for r in ran:\n",
    "    print(r)\n",
    "print('ran:',ran)\n",
    "print('ran_list:',ran_list)"
   ]
  },
  {
   "cell_type": "code",
   "execution_count": 141,
   "metadata": {},
   "outputs": [
    {
     "data": {
      "text/plain": [
       "range"
      ]
     },
     "execution_count": 141,
     "metadata": {},
     "output_type": "execute_result"
    }
   ],
   "source": [
    "type(ran)"
   ]
  },
  {
   "cell_type": "code",
   "execution_count": 142,
   "metadata": {},
   "outputs": [
    {
     "data": {
      "text/plain": [
       "list"
      ]
     },
     "execution_count": 142,
     "metadata": {},
     "output_type": "execute_result"
    }
   ],
   "source": [
    "type(ran_list)"
   ]
  },
  {
   "cell_type": "markdown",
   "metadata": {},
   "source": [
    "### 4. 串列生成式"
   ]
  },
  {
   "cell_type": "code",
   "execution_count": 146,
   "metadata": {},
   "outputs": [
    {
     "data": {
      "text/plain": [
       "[0, 2, 4, 6, 8]"
      ]
     },
     "execution_count": 146,
     "metadata": {},
     "output_type": "execute_result"
    }
   ],
   "source": [
    "list = []\n",
    "for i in range(0,10,2):\n",
    "    list.append(i)\n",
    "list"
   ]
  },
  {
   "cell_type": "code",
   "execution_count": 3,
   "metadata": {},
   "outputs": [
    {
     "data": {
      "text/plain": [
       "[0, 2, 4, 6, 8]"
      ]
     },
     "execution_count": 3,
     "metadata": {},
     "output_type": "execute_result"
    }
   ],
   "source": [
    "# windows不支援這種寫法 嫩!\n",
    "li = list(range(0,10,2))\n",
    "li"
   ]
  },
  {
   "cell_type": "markdown",
   "metadata": {},
   "source": [
    "**`[`運算式 `for` 項目 `in` 可迭代項目`]`**"
   ]
  },
  {
   "cell_type": "code",
   "execution_count": 152,
   "metadata": {},
   "outputs": [
    {
     "data": {
      "text/plain": [
       "[-1, 1, 3, 5, 7]"
      ]
     },
     "execution_count": 152,
     "metadata": {},
     "output_type": "execute_result"
    }
   ],
   "source": [
    "li = [i-1 for i in range(0,10,2)]\n",
    "li"
   ]
  },
  {
   "cell_type": "markdown",
   "metadata": {},
   "source": [
    "`[`運算式 `for` 項目 `in` 可迭代項目 **`if` 條件式**`]`"
   ]
  },
  {
   "cell_type": "code",
   "execution_count": 154,
   "metadata": {},
   "outputs": [
    {
     "data": {
      "text/plain": [
       "[0, 2, 4, 6, 8, 10, 12, 14, 16, 18]"
      ]
     },
     "execution_count": 154,
     "metadata": {},
     "output_type": "execute_result"
    }
   ],
   "source": [
    "#只取偶數\n",
    "li = [i for i in range(0,20) if i % 2 == 0]\n",
    "li"
   ]
  },
  {
   "cell_type": "markdown",
   "metadata": {},
   "source": [
    "### 5. 巢狀迴圈"
   ]
  },
  {
   "cell_type": "code",
   "execution_count": 155,
   "metadata": {},
   "outputs": [
    {
     "name": "stdout",
     "output_type": "stream",
     "text": [
      "0 0\n",
      "0 1\n",
      "0 2\n",
      "0 3\n",
      "0 4\n",
      "1 0\n",
      "1 1\n",
      "1 2\n",
      "1 3\n",
      "1 4\n",
      "2 0\n",
      "2 1\n",
      "2 2\n",
      "2 3\n",
      "2 4\n"
     ]
    }
   ],
   "source": [
    "for i1 in range(0,3):\n",
    "    for i2 in range(0,5):\n",
    "        print(i1, i2)"
   ]
  },
  {
   "cell_type": "code",
   "execution_count": 157,
   "metadata": {},
   "outputs": [
    {
     "data": {
      "text/plain": [
       "[(0, 0),\n",
       " (0, 1),\n",
       " (0, 2),\n",
       " (0, 3),\n",
       " (0, 4),\n",
       " (1, 0),\n",
       " (1, 1),\n",
       " (1, 2),\n",
       " (1, 3),\n",
       " (1, 4),\n",
       " (2, 0),\n",
       " (2, 1),\n",
       " (2, 2),\n",
       " (2, 3),\n",
       " (2, 4)]"
      ]
     },
     "execution_count": 157,
     "metadata": {},
     "output_type": "execute_result"
    }
   ],
   "source": [
    "#巢狀迴圈的一行寫法\n",
    "li = [(i1,i2) for i1 in range(0,3) for i2 in range(0,5)]\n",
    "li"
   ]
  },
  {
   "cell_type": "code",
   "execution_count": 159,
   "metadata": {},
   "outputs": [
    {
     "name": "stdout",
     "output_type": "stream",
     "text": [
      "0 0\n",
      "0 1\n",
      "0 2\n",
      "0 3\n",
      "0 4\n",
      "1 0\n",
      "1 1\n",
      "1 2\n",
      "1 3\n",
      "1 4\n",
      "2 0\n",
      "2 1\n",
      "2 2\n",
      "2 3\n",
      "2 4\n",
      "(0, 0)\n",
      "(0, 1)\n",
      "(0, 2)\n",
      "(0, 3)\n",
      "(0, 4)\n",
      "(1, 0)\n",
      "(1, 1)\n",
      "(1, 2)\n",
      "(1, 3)\n",
      "(1, 4)\n",
      "(2, 0)\n",
      "(2, 1)\n",
      "(2, 2)\n",
      "(2, 3)\n",
      "(2, 4)\n"
     ]
    }
   ],
   "source": [
    "for i1, i2 in li:\n",
    "    print(i1, i2)\n",
    "for i in li:\n",
    "    print(i)"
   ]
  },
  {
   "cell_type": "markdown",
   "metadata": {},
   "source": [
    "### 6. 字典生成器\n",
    "- **{key運算式:value運算式 for 項目 in 可迭代項目}**"
   ]
  },
  {
   "cell_type": "code",
   "execution_count": 162,
   "metadata": {},
   "outputs": [
    {
     "data": {
      "text/plain": [
       "{'M': 1, 'o': 1, 'l': 2, 'i': 1, 'e': 1}"
      ]
     },
     "execution_count": 162,
     "metadata": {},
     "output_type": "execute_result"
    }
   ],
   "source": [
    "# 範例: 計算字數\n",
    "word = 'Mollie'\n",
    "letterCount = {i:word.count(i) for i in word}\n",
    "letterCount"
   ]
  },
  {
   "cell_type": "code",
   "execution_count": 163,
   "metadata": {},
   "outputs": [
    {
     "data": {
      "text/plain": [
       "{'l': 2, 'o': 1, 'i': 1, 'e': 1, 'M': 1}"
      ]
     },
     "execution_count": 163,
     "metadata": {},
     "output_type": "execute_result"
    }
   ],
   "source": [
    "# better way\n",
    "word = 'Mollie'\n",
    "letterCount = {i:word.count(i) for i in set(word)}\n",
    "letterCount"
   ]
  },
  {
   "cell_type": "markdown",
   "metadata": {},
   "source": [
    "### 7. 集合生成器\n",
    "- **{運算式 for 項目 in 可迭代項目}**"
   ]
  },
  {
   "cell_type": "code",
   "execution_count": 164,
   "metadata": {},
   "outputs": [
    {
     "data": {
      "text/plain": [
       "{1, 3, 5, 7, 9}"
      ]
     },
     "execution_count": 164,
     "metadata": {},
     "output_type": "execute_result"
    }
   ],
   "source": [
    "sett = {i for i in range(0,10) if i % 2 != 0}\n",
    "sett"
   ]
  },
  {
   "cell_type": "markdown",
   "metadata": {},
   "source": [
    "### 8. 產生器生成式(Tuple)\n",
    "-- **產生器是一種將資料提供給迭代器的方式**"
   ]
  },
  {
   "cell_type": "code",
   "execution_count": 1,
   "metadata": {},
   "outputs": [
    {
     "name": "stdout",
     "output_type": "stream",
     "text": [
      "<class 'generator'>\n",
      "0\n",
      "1\n",
      "2\n",
      "3\n",
      "4\n",
      "5\n",
      "6\n",
      "7\n",
      "8\n",
      "9\n"
     ]
    }
   ],
   "source": [
    "# 屬性式generator\n",
    "aTuple = (i for i in range(0,10))\n",
    "print(type(aTuple))\n",
    "# 可以用for loop帶出值\n",
    "for i in aTuple:\n",
    "    print(i)"
   ]
  },
  {
   "cell_type": "code",
   "execution_count": 2,
   "metadata": {},
   "outputs": [
    {
     "data": {
      "text/plain": [
       "[]"
      ]
     },
     "execution_count": 2,
     "metadata": {},
     "output_type": "execute_result"
    }
   ],
   "source": [
    "# 產生器無法被重複使用，資料被帶出就沒了\n",
    "numberlist = list(aTuple) # windows 不支援...\n",
    "numberlist"
   ]
  },
  {
   "cell_type": "markdown",
   "metadata": {},
   "source": [
    "### 9. 函式\n",
    "\n",
    "- def funtion_name(parameters):\n",
    "    statement;"
   ]
  },
  {
   "cell_type": "code",
   "execution_count": 21,
   "metadata": {},
   "outputs": [
    {
     "name": "stdout",
     "output_type": "stream",
     "text": [
      "wolf!\n"
     ]
    }
   ],
   "source": [
    "def doNothing():\n",
    "    pass\n",
    "doNothing()\n",
    "def makeASound():\n",
    "    print(\"wolf!\")\n",
    "makeASound()"
   ]
  },
  {
   "cell_type": "code",
   "execution_count": 18,
   "metadata": {},
   "outputs": [
    {
     "name": "stdout",
     "output_type": "stream",
     "text": [
      "Splendid!\n"
     ]
    }
   ],
   "source": [
    "def agree():\n",
    "    return True\n",
    "if agree():\n",
    "    print(\"Splendid!\")\n",
    "else:\n",
    "    print(\"That's unexpected.\")"
   ]
  },
  {
   "cell_type": "code",
   "execution_count": 19,
   "metadata": {},
   "outputs": [
    {
     "data": {
      "text/plain": [
       "'Wow! Wow!'"
      ]
     },
     "execution_count": 19,
     "metadata": {},
     "output_type": "execute_result"
    }
   ],
   "source": [
    "def echo(anything):\n",
    "    return anything + ' ' + anything\n",
    "echo('Wow!')"
   ]
  },
  {
   "cell_type": "code",
   "execution_count": 20,
   "metadata": {},
   "outputs": [
    {
     "name": "stdout",
     "output_type": "stream",
     "text": [
      "I have nerver heard of the colorblue.\n"
     ]
    }
   ],
   "source": [
    "def commentary(color):\n",
    "    if color == 'red':\n",
    "        return \"it's a tomato!\"\n",
    "    elif color == 'green':\n",
    "        return \"it's a green peper!\"\n",
    "    elif color == 'been purple':\n",
    "        return \"I don't know what it is. but only bees can see it\"\n",
    "    else:\n",
    "        return \"I have nerver heard of the color\" + color + \".\"\n",
    "print(commentary(\"blue\"))"
   ]
  },
  {
   "cell_type": "markdown",
   "metadata": {},
   "source": [
    "**如果函數沒有明確的呼叫return，呼叫方會得到None這個結果**\n",
    "- none 用來區分遺漏值，與空值。零、空容器與空字串都是False不等於None。"
   ]
  },
  {
   "cell_type": "code",
   "execution_count": 22,
   "metadata": {},
   "outputs": [
    {
     "name": "stdout",
     "output_type": "stream",
     "text": [
      "None\n"
     ]
    }
   ],
   "source": [
    "print(doNothing())"
   ]
  },
  {
   "cell_type": "code",
   "execution_count": 23,
   "metadata": {},
   "outputs": [
    {
     "name": "stdout",
     "output_type": "stream",
     "text": [
      "it's no thing.\n",
      "it's nothing.\n"
     ]
    }
   ],
   "source": [
    "thing = None\n",
    "if thing:\n",
    "    print(\"it's some thing.\")\n",
    "else:\n",
    "    print(\"it's no thing.\")\n",
    "if thing is None:\n",
    "    print(\"it's nothing.\")\n",
    "else:\n",
    "    print(\"it's something.\")"
   ]
  },
  {
   "cell_type": "code",
   "execution_count": 25,
   "metadata": {},
   "outputs": [
    {
     "name": "stdout",
     "output_type": "stream",
     "text": [
      "it's None\n",
      "it's False\n",
      "it's True\n",
      "it's True\n",
      "it's False\n",
      "it's False\n",
      "it's False\n",
      "it's False\n",
      "it's False\n",
      "it's False\n",
      "it's False\n"
     ]
    }
   ],
   "source": [
    "def isNone(thing):\n",
    "    if thing is None:\n",
    "        print(\"it's None\")\n",
    "    elif thing:\n",
    "        print(\"it's True\")\n",
    "    else:\n",
    "        print(\"it's False\")\n",
    "        \n",
    "isNone(None)\n",
    "isNone(False)\n",
    "isNone(True)\n",
    "isNone(\"thing\")\n",
    "isNone(\"\")\n",
    "isNone(0)\n",
    "isNone(0.0)\n",
    "isNone({})\n",
    "isNone(set())\n",
    "isNone([])\n",
    "isNone(())"
   ]
  },
  {
   "cell_type": "code",
   "execution_count": 26,
   "metadata": {},
   "outputs": [
    {
     "data": {
      "text/plain": [
       "{'dessert': 'cake', 'entree': 'chicken', 'wine': 'chardonnay'}"
      ]
     },
     "execution_count": 26,
     "metadata": {},
     "output_type": "execute_result"
    }
   ],
   "source": [
    "# 位置引數 （缺點： 必須記清楚每個位置的意思）\n",
    "def menu(wine,entree,dessert):\n",
    "    return {'wine':wine,'entree':entree,'dessert':dessert}\n",
    "menu('chardonnay','chicken','cake')"
   ]
  },
  {
   "cell_type": "code",
   "execution_count": 27,
   "metadata": {},
   "outputs": [
    {
     "data": {
      "text/plain": [
       "{'dessert': 'pie', 'entree': 'beef', 'wine': 'chardonnay'}"
      ]
     },
     "execution_count": 27,
     "metadata": {},
     "output_type": "execute_result"
    }
   ],
   "source": [
    "# 關鍵字引數\n",
    "menu(entree='beef',dessert='pie',wine='chardonnay')\n",
    "#如果要同時使用位置引數和關鍵字引數，位置引數要放在前面"
   ]
  },
  {
   "cell_type": "code",
   "execution_count": 30,
   "metadata": {},
   "outputs": [
    {
     "data": {
      "text/plain": [
       "{'dessert': 'pudding', 'entree': 'beef', 'wine': 'chardonnay'}"
      ]
     },
     "execution_count": 30,
     "metadata": {},
     "output_type": "execute_result"
    }
   ],
   "source": [
    "# 指定預設參數\n",
    "def menu(wine,entree,dessert='pudding'):\n",
    "    return {'wine':wine,'entree':entree,'dessert':dessert}\n",
    "menu('chardonnay','beef')"
   ]
  },
  {
   "cell_type": "code",
   "execution_count": 35,
   "metadata": {},
   "outputs": [
    {
     "name": "stdout",
     "output_type": "stream",
     "text": [
      "['a']\n",
      "['a', 'b']\n",
      "['a']\n",
      "['b']\n",
      "['a']\n",
      "['b']\n"
     ]
    }
   ],
   "source": [
    "# 參數宣告位置將影響其值的累加\n",
    "\n",
    "# result預設為[]\n",
    "def buggy(arg, result=[]):\n",
    "    result.append(arg)\n",
    "    print(result)\n",
    "buggy('a')\n",
    "buggy('b')\n",
    "\n",
    "# result宣告為區域變數\n",
    "def works(arg):\n",
    "    result=[]\n",
    "    result.append(arg)\n",
    "    print(result)\n",
    "    return result\n",
    "works('a')\n",
    "works('b')\n",
    "\n",
    "# result預設為None\n",
    "def nonbuggy(arg, result=None):\n",
    "    if result is None:\n",
    "        result = []\n",
    "    result.append(arg)\n",
    "    print(result)\n",
    "nonbuggy('a')\n",
    "nonbuggy('b')"
   ]
  },
  {
   "cell_type": "code",
   "execution_count": 38,
   "metadata": {},
   "outputs": [
    {
     "name": "stdout",
     "output_type": "stream",
     "text": [
      "Positional argument tuple: ()\n",
      "Positional argument tuple: ('test', 3, 100, 0.0, 'Mollie')\n"
     ]
    }
   ],
   "source": [
    "def printArgs(*args):\n",
    "    print('Positional argument tuple:', args)\n",
    "printArgs()\n",
    "printArgs('test',3,100,0.0,'Mollie')"
   ]
  },
  {
   "cell_type": "code",
   "execution_count": 39,
   "metadata": {},
   "outputs": [
    {
     "name": "stdout",
     "output_type": "stream",
     "text": [
      "Need this one: apple\n",
      "Need this too: lemon\n",
      "All the rest: ('strawberry', 'honey', 'blueberry')\n"
     ]
    }
   ],
   "source": [
    "# 用*來收集位置引數\n",
    "def printMore(required1, required2, *args):\n",
    "    print('Need this one:', required1)\n",
    "    print('Need this too:', required2)\n",
    "    print('All the rest:', args)\n",
    "printMore('apple', 'lemon', 'strawberry', 'honey', 'blueberry')"
   ]
  },
  {
   "cell_type": "code",
   "execution_count": 45,
   "metadata": {},
   "outputs": [
    {
     "name": "stdout",
     "output_type": "stream",
     "text": [
      "keyword arguments: {'entree': 'mutton', 'dessert': 'macaroon', 'wine': 'merlot'}\n"
     ]
    }
   ],
   "source": [
    "# 用**來收集關鍵字引數\n",
    "def printKwargs(**kwargs):\n",
    "    print('keyword arguments:',kwargs)\n",
    "printKwargs(wine='merlot',entree='mutton',dessert='macaroon')"
   ]
  },
  {
   "cell_type": "code",
   "execution_count": 49,
   "metadata": {},
   "outputs": [
    {
     "name": "stdout",
     "output_type": "stream",
     "text": [
      "Help on function echo in module __main__:\n",
      "\n",
      "echo(anything)\n",
      "    echo returns its input argument\n",
      "\n",
      "Help on function printIfTrue in module __main__:\n",
      "\n",
      "printIfTrue(thing, check)\n",
      "    Print the first argument if a second argument is True.\n",
      "    The Operation is:\n",
      "        1. Check whether the second argument is True.\n",
      "        2. If it is, print the first argument.\n",
      "\n"
     ]
    }
   ],
   "source": [
    "# 文件字串： 增加方法的可讀性，我們都會在每個階段做一些文字敘述\n",
    "def echo(anything):\n",
    "    'echo returns its input argument'\n",
    "    return anything\n",
    "def printIfTrue(thing, check):\n",
    "    '''\n",
    "    Print the first argument if a second argument is True.\n",
    "    The Operation is:\n",
    "        1. Check whether the second argument is True.\n",
    "        2. If it is, print the first argument.\n",
    "    '''\n",
    "    if check:\n",
    "        print(thing)\n",
    "help(echo)\n",
    "help(printIfTrue)"
   ]
  },
  {
   "cell_type": "code",
   "execution_count": 51,
   "metadata": {},
   "outputs": [
    {
     "name": "stdout",
     "output_type": "stream",
     "text": [
      "echo returns its input argument\n"
     ]
    }
   ],
   "source": [
    "# 只想要看原始文件字串，不想有格式: .__doc__\n",
    "print(echo.__doc__)"
   ]
  },
  {
   "cell_type": "markdown",
   "metadata": {},
   "source": [
    "### 函式是第1級公民"
   ]
  },
  {
   "cell_type": "code",
   "execution_count": 54,
   "metadata": {},
   "outputs": [
    {
     "name": "stdout",
     "output_type": "stream",
     "text": [
      "42\n",
      "<class 'function'>\n",
      "42\n",
      "<class 'int'>\n"
     ]
    }
   ],
   "source": [
    "# 有括號的時候代表呼叫函式，沒括號的時候可以當物件在其他函式傳來傳去\n",
    "def answer():\n",
    "    print(42)\n",
    "    return 42\n",
    "\n",
    "def runSomething(func):\n",
    "    func()\n",
    "\n",
    "runSomething(answer)\n",
    "print(type(answer))\n",
    "print(type(answer()))"
   ]
  },
  {
   "cell_type": "code",
   "execution_count": 56,
   "metadata": {},
   "outputs": [
    {
     "data": {
      "text/plain": [
       "function"
      ]
     },
     "execution_count": 56,
     "metadata": {},
     "output_type": "execute_result"
    }
   ],
   "source": [
    "def addArgs(arg1, arg2):\n",
    "    print(arg1+arg2)\n",
    "type(addArgs)"
   ]
  },
  {
   "cell_type": "code",
   "execution_count": 63,
   "metadata": {},
   "outputs": [
    {
     "name": "stdout",
     "output_type": "stream",
     "text": [
      "13\n"
     ]
    },
    {
     "data": {
      "text/plain": [
       "15"
      ]
     },
     "execution_count": 63,
     "metadata": {},
     "output_type": "execute_result"
    }
   ],
   "source": [
    "def runSomethingWithArgs(func, arg1, arg2):\n",
    "    func(arg1,arg2)\n",
    "runSomethingWithArgs(addArgs, 4, 9)\n",
    "\n",
    "# 可以將這種作法與*args/**kwargs結合\n",
    "def sumArgs(*args):\n",
    "    return sum(args)\n",
    "def runWithPositionalArgs(func, *args):\n",
    "    return func(*args)\n",
    "runWithPositionalArgs(sumArgs,1,2,3,4,5)"
   ]
  },
  {
   "cell_type": "markdown",
   "metadata": {},
   "source": [
    "**內部函式： 你可以在其他函式裏面再定義函式**"
   ]
  },
  {
   "cell_type": "code",
   "execution_count": 64,
   "metadata": {},
   "outputs": [
    {
     "data": {
      "text/plain": [
       "7"
      ]
     },
     "execution_count": 64,
     "metadata": {},
     "output_type": "execute_result"
    }
   ],
   "source": [
    "def outer(a,b):\n",
    "    def inner(c,d):\n",
    "        return c+d\n",
    "    return inner(a,b)\n",
    "\n",
    "outer(3,4)"
   ]
  },
  {
   "cell_type": "code",
   "execution_count": 65,
   "metadata": {},
   "outputs": [
    {
     "data": {
      "text/plain": [
       "\"We are the knights who say: 'Ni!'\""
      ]
     },
     "execution_count": 65,
     "metadata": {},
     "output_type": "execute_result"
    }
   ],
   "source": [
    "def knights(saying):\n",
    "    def inner(quote):\n",
    "        return \"We are the knights who say: '%s'\" %quote\n",
    "    return inner(saying)\n",
    "knights('Ni!')\n",
    "\n",
    "\n"
   ]
  },
  {
   "cell_type": "markdown",
   "metadata": {},
   "source": [
    "### 內部函式(Closure)"
   ]
  },
  {
   "cell_type": "code",
   "execution_count": 66,
   "metadata": {},
   "outputs": [],
   "source": [
    "def knights2(saying):\n",
    "    def inner2():\n",
    "        # inner2會直接使用外面的saying參數，而不是以引數來取得\n",
    "        return \"We are the knights who say:'%s'\" %saying \n",
    "    # knights2會回傳inner2函數名稱\n",
    "    return inner2 "
   ]
  },
  {
   "cell_type": "code",
   "execution_count": 72,
   "metadata": {},
   "outputs": [
    {
     "name": "stdout",
     "output_type": "stream",
     "text": [
      "<function knights2.<locals>.inner2 at 0x7f5345f04598>\n",
      "<class 'function'>\n",
      "<function knights2.<locals>.inner2 at 0x7f5345f1d730>\n",
      "<class 'function'>\n"
     ]
    }
   ],
   "source": [
    "# 內部函式知道被傳入saying的值，並且會記得它\n",
    "argh = knights2('arghhhhh!')\n",
    "# argh is a untriggered inner2('arghhhhh!') function\n",
    "print(argh)\n",
    "print(type(argh))\n",
    "ouch = knights2('ooooouch!')\n",
    "# ouch is a untriggered inner2('ooooouch!') function\n",
    "print(ouch)\n",
    "print(type(ouch))"
   ]
  },
  {
   "cell_type": "code",
   "execution_count": 73,
   "metadata": {},
   "outputs": [
    {
     "name": "stdout",
     "output_type": "stream",
     "text": [
      "We are the knights who say:'arghhhhh!'\n",
      "We are the knights who say:'ooooouch!'\n"
     ]
    }
   ],
   "source": [
    "print(argh())\n",
    "print(ouch())"
   ]
  },
  {
   "cell_type": "markdown",
   "metadata": {},
   "source": [
    "**匿名函式： lambda() function**"
   ]
  },
  {
   "cell_type": "code",
   "execution_count": 74,
   "metadata": {},
   "outputs": [
    {
     "name": "stdout",
     "output_type": "stream",
     "text": [
      "Thud!\n",
      "Meow!\n",
      "Thud!\n",
      "Hiss!\n"
     ]
    }
   ],
   "source": [
    "stairs = ['thud', 'meow', 'thud', 'hiss']\n",
    "def editStory(words,func):\n",
    "    for word in words:\n",
    "        print(func(word))\n",
    "def enliven(word):\n",
    "    return word.capitalize()+'!'\n",
    "editStory(stairs, enliven)"
   ]
  },
  {
   "cell_type": "code",
   "execution_count": 76,
   "metadata": {},
   "outputs": [
    {
     "name": "stdout",
     "output_type": "stream",
     "text": [
      "Thud!\n",
      "Meow!\n",
      "Thud!\n",
      "Hiss!\n"
     ]
    }
   ],
   "source": [
    "# 因為enliven的函式很簡單，直接換成lambda的方式就好了\n",
    "editStory(stairs, lambda word: word.capitalize() + '!')"
   ]
  },
  {
   "cell_type": "markdown",
   "metadata": {},
   "source": [
    "### 產生器 (Generator)"
   ]
  },
  {
   "cell_type": "code",
   "execution_count": 84,
   "metadata": {},
   "outputs": [
    {
     "name": "stdout",
     "output_type": "stream",
     "text": [
      "<function my_range at 0x7f5345f1d7b8>\n",
      "1\n",
      "2\n",
      "3\n",
      "4\n"
     ]
    }
   ],
   "source": [
    "# 用yield陳述值回傳值，而不是return\n",
    "def my_range(first=0, last=10, step=1):\n",
    "    number = first\n",
    "    while number < last:\n",
    "        yield number\n",
    "        number += step\n",
    "\n",
    "print(my_range)\n",
    "ranger = my_range(1,5)\n",
    "for i in ranger:\n",
    "    print(i)"
   ]
  },
  {
   "cell_type": "markdown",
   "metadata": {},
   "source": [
    "### 修飾器 （Decortator)"
   ]
  },
  {
   "cell_type": "code",
   "execution_count": 82,
   "metadata": {},
   "outputs": [
    {
     "name": "stdout",
     "output_type": "stream",
     "text": [
      "Running function: add_ints\n",
      "Positional arguments: (5, 3)\n",
      "keywords arguments: {}\n",
      "Result: 8\n",
      "8\n"
     ]
    }
   ],
   "source": [
    "# 裝飾器編輯\n",
    "def document_it(func):\n",
    "    def new_function(*args,**kwargs):\n",
    "        print('Running function:',func.__name__)\n",
    "        print('Positional arguments:',args)\n",
    "        print('keywords arguments:', kwargs)\n",
    "        result = func(*args, **kwargs)\n",
    "        print('Result:',result)\n",
    "        return result\n",
    "    return new_function\n",
    "# 欲裝飾方法\n",
    "def add_ints(a,b):\n",
    "    return a+b\n",
    "add_ints(3,5) #8\n",
    "\n",
    "# 手動指派裝飾器\n",
    "cooler_add_ints = document_it(add_ints) \n",
    "print(cooler_add_ints(5,3))"
   ]
  },
  {
   "cell_type": "code",
   "execution_count": 79,
   "metadata": {},
   "outputs": [
    {
     "name": "stdout",
     "output_type": "stream",
     "text": [
      "Running function: add_ints\n",
      "Positional arguments: (3, 5)\n",
      "keywords arguments: {}\n",
      "Result: 8\n"
     ]
    },
    {
     "data": {
      "text/plain": [
       "8"
      ]
     },
     "execution_count": 79,
     "metadata": {},
     "output_type": "execute_result"
    }
   ],
   "source": [
    "# 你也可以在想要裝飾的函式前添加@decorator_name來取代手動指派\n",
    "@document_it\n",
    "def add_ints(a,b):\n",
    "    return a+b\n",
    "\n",
    "add_ints(3,5)"
   ]
  },
  {
   "cell_type": "code",
   "execution_count": 83,
   "metadata": {},
   "outputs": [
    {
     "name": "stdout",
     "output_type": "stream",
     "text": [
      "Running function: new_function\n",
      "Positional arguments: (3, 5)\n",
      "keywords arguments: {}\n",
      "Result: 64\n"
     ]
    },
    {
     "data": {
      "text/plain": [
       "64"
      ]
     },
     "execution_count": 83,
     "metadata": {},
     "output_type": "execute_result"
    }
   ],
   "source": [
    "# 同一個函式可以有兩個以上的裝飾器\n",
    "#裝飾器2\n",
    "def square_it(func):\n",
    "    def new_function(*args,**kwargs):\n",
    "        result = func(*args,**kwargs)\n",
    "        return result*result\n",
    "    return new_function\n",
    "\n",
    "@document_it\n",
    "@square_it\n",
    "def add_ints(a,b):\n",
    "    return a+b\n",
    "\n",
    "add_ints(3,5)"
   ]
  },
  {
   "cell_type": "markdown",
   "metadata": {},
   "source": [
    "### 命名空間與範圍"
   ]
  },
  {
   "cell_type": "code",
   "execution_count": 85,
   "metadata": {},
   "outputs": [
    {
     "name": "stdout",
     "output_type": "stream",
     "text": [
      "at the top level: fruitbat\n",
      "inside print global: fruitbat\n"
     ]
    }
   ],
   "source": [
    "animal = 'fruitbat'\n",
    "print('at the top level:', animal)\n",
    "def print_global():\n",
    "    print('inside print global:', animal)\n",
    "print_global()"
   ]
  },
  {
   "cell_type": "code",
   "execution_count": 86,
   "metadata": {
    "collapsed": true
   },
   "outputs": [
    {
     "name": "stdout",
     "output_type": "stream",
     "text": [
      "at the top level: fruitbat\n"
     ]
    },
    {
     "ename": "UnboundLocalError",
     "evalue": "local variable 'animal' referenced before assignment",
     "output_type": "error",
     "traceback": [
      "\u001b[0;31m---------------------------------------------------------------------------\u001b[0m",
      "\u001b[0;31mUnboundLocalError\u001b[0m                         Traceback (most recent call last)",
      "\u001b[0;32m<ipython-input-86-512df24abf15>\u001b[0m in \u001b[0;36m<module>\u001b[0;34m()\u001b[0m\n\u001b[1;32m      4\u001b[0m     \u001b[0manimal\u001b[0m \u001b[0;34m=\u001b[0m \u001b[0;34m'wombat'\u001b[0m\u001b[0;34m\u001b[0m\u001b[0m\n\u001b[1;32m      5\u001b[0m     \u001b[0mprint\u001b[0m\u001b[0;34m(\u001b[0m\u001b[0;34m'print after change:'\u001b[0m\u001b[0;34m,\u001b[0m \u001b[0manimal\u001b[0m\u001b[0;34m)\u001b[0m\u001b[0;34m\u001b[0m\u001b[0m\n\u001b[0;32m----> 6\u001b[0;31m \u001b[0mchange_and_print_global\u001b[0m\u001b[0;34m(\u001b[0m\u001b[0;34m)\u001b[0m\u001b[0;34m\u001b[0m\u001b[0m\n\u001b[0m",
      "\u001b[0;32m<ipython-input-86-512df24abf15>\u001b[0m in \u001b[0;36mchange_and_print_global\u001b[0;34m()\u001b[0m\n\u001b[1;32m      1\u001b[0m \u001b[0mprint\u001b[0m\u001b[0;34m(\u001b[0m\u001b[0;34m'at the top level:'\u001b[0m\u001b[0;34m,\u001b[0m \u001b[0manimal\u001b[0m\u001b[0;34m)\u001b[0m\u001b[0;34m\u001b[0m\u001b[0m\n\u001b[1;32m      2\u001b[0m \u001b[0;32mdef\u001b[0m \u001b[0mchange_and_print_global\u001b[0m\u001b[0;34m(\u001b[0m\u001b[0;34m)\u001b[0m\u001b[0;34m:\u001b[0m\u001b[0;34m\u001b[0m\u001b[0m\n\u001b[0;32m----> 3\u001b[0;31m     \u001b[0mprint\u001b[0m\u001b[0;34m(\u001b[0m\u001b[0;34m'inside change_and_print_global:'\u001b[0m\u001b[0;34m,\u001b[0m \u001b[0manimal\u001b[0m\u001b[0;34m)\u001b[0m\u001b[0;34m\u001b[0m\u001b[0m\n\u001b[0m\u001b[1;32m      4\u001b[0m     \u001b[0manimal\u001b[0m \u001b[0;34m=\u001b[0m \u001b[0;34m'wombat'\u001b[0m\u001b[0;34m\u001b[0m\u001b[0m\n\u001b[1;32m      5\u001b[0m     \u001b[0mprint\u001b[0m\u001b[0;34m(\u001b[0m\u001b[0;34m'print after change:'\u001b[0m\u001b[0;34m,\u001b[0m \u001b[0manimal\u001b[0m\u001b[0;34m)\u001b[0m\u001b[0;34m\u001b[0m\u001b[0m\n",
      "\u001b[0;31mUnboundLocalError\u001b[0m: local variable 'animal' referenced before assignment"
     ]
    }
   ],
   "source": [
    "print('at the top level:', animal)\n",
    "# UnboundLocalError: local variable 'animal' referenced before assignment\n",
    "def change_and_print_global():\n",
    "    print('inside change_and_print_global:', animal)\n",
    "    animal = 'wombat'\n",
    "    print('print after change:', animal)\n",
    "change_and_print_global()"
   ]
  },
  {
   "cell_type": "code",
   "execution_count": 87,
   "metadata": {},
   "outputs": [
    {
     "name": "stdout",
     "output_type": "stream",
     "text": [
      "inside change_local: wombat 139995632128944\n",
      "at the top level: fruitbat 139995632094384\n"
     ]
    }
   ],
   "source": [
    "def change_local():\n",
    "    animal = 'wombat'\n",
    "    print('inside change_local:', animal, id(animal))\n",
    "    \n",
    "change_local()\n",
    "print('at the top level:',animal, id(animal))"
   ]
  },
  {
   "cell_type": "code",
   "execution_count": 90,
   "metadata": {},
   "outputs": [
    {
     "name": "stdout",
     "output_type": "stream",
     "text": [
      "inside change_and_print_global: wombat 139995632128944\n",
      "at the top level: wombat 139995632128944\n"
     ]
    }
   ],
   "source": [
    "# global 變數\n",
    "animal = 'fruitbat'\n",
    "def change_and_print_global():\n",
    "    global animal \n",
    "    animal = 'wombat'\n",
    "    print('inside change_and_print_global:', animal, id(animal))\n",
    "\n",
    "change_and_print_global()\n",
    "print('at the top level:',animal, id(animal))"
   ]
  },
  {
   "cell_type": "code",
   "execution_count": 101,
   "metadata": {},
   "outputs": [
    {
     "name": "stdout",
     "output_type": "stream",
     "text": [
      "fruitbat\n",
      "locals: {'animal': 'wombat'}\n"
     ]
    }
   ],
   "source": [
    "# globals() & locals() 回傳全域/區域空間的字典內容\n",
    "animal = 'fruitbat'\n",
    "def change_local():\n",
    "    animal = 'wombat' # local variable\n",
    "    print('locals:', locals())\n",
    "print(animal)\n",
    "change_local()"
   ]
  },
  {
   "cell_type": "code",
   "execution_count": 105,
   "metadata": {},
   "outputs": [
    {
     "name": "stdout",
     "output_type": "stream",
     "text": [
      "globals: {'_ih': ['', '# 屬性式generator\\naTuple = (i for i in range(0,10))\\nprint(type(aTuple))\\n# 可以用for loop帶出值\\nfor i in aTuple:\\n    print(i)', '# 產生器無法被重複使用，資料被帶出就沒了\\nnumberlist = list(aTuple) # windows 不支援...\\nnumberlist', '# windows不支援這種寫法 嫩!\\nli = list(range(0,10,2))\\nli', \"#利用dict(zip())製作字典\\nenglish = 'Mon', 'Tue', 'Wed'\\nspanish = 'lunes', 'elmartes', 'miercoles'\\n# list(zip(english,spanish))\\ndict(zip(english,spanish)) # windows不能運行，爛！\", 'def do_nothing():\\n    pass\\ndo_nothing()', 'def do_nothing():\\n    pass\\ndo_nothing()', 'def do_nothing():\\n    pass\\ndo_nothing()\\ndef makeASound():\\n    print(\"wolf!\")\\nmakeASound()', 'def agree()\\n    return True\\nif agree():\\n    print(\"Splendid!\")\\nelse:\\n    print(\"That\\'s unexpected.\")', 'def agree():\\n    return True\\nif agree():\\n    print(\"Splendid!\")\\nelse:\\n    print(\"That\\'s unexpected.\")', \"def echo(anything):\\n    return anything + ' ' + anything\\necho(Wow!)\", \"def echo(anything):\\n    return anything + ' ' + anything\\necho('Wow!')\", 'def commentary(color):\\n    if color == \\'red\\':\\n        return \"it\\'s a tomato!\"\\n    elif color == \\'green\\':\\n        return \"it\\'s a green peper!\"\\n    elif color == \\'been purple\\':\\n        return \"I don\\'t know what it is. but only bees can see it\"\\n    else:\\n        return \"I have nerver heard of the color\" + color + \".\"\\ncommentary(blue)', 'def commentary(color):\\n    if color == \\'red\\':\\n        return \"it\\'s a tomato!\"\\n    elif color == \\'green\\':\\n        return \"it\\'s a green peper!\"\\n    elif color == \\'been purple\\':\\n        return \"I don\\'t know what it is. but only bees can see it\"\\n    else:\\n        return \"I have nerver heard of the color\" + color + \".\"\\ncommentary(\"blue\")', 'def commentary(color):\\n    if color == \\'red\\':\\n        return \"it\\'s a tomato!\"\\n    elif color == \\'green\\':\\n        return \"it\\'s a green peper!\"\\n    elif color == \\'been purple\\':\\n        return \"I don\\'t know what it is. but only bees can see it\"\\n    else:\\n        return \"I have nerver heard of the color\" + color + \".\"\\nprint(commentary(\"blue\"))', 'print(doNothing())', 'print(doNothing())', 'def doNothing():\\n    pass\\ndoNothing()\\ndef makeASound():\\n    print(\"wolf!\")\\nmakeASound()', 'def agree():\\n    return True\\nif agree():\\n    print(\"Splendid!\")\\nelse:\\n    print(\"That\\'s unexpected.\")', \"def echo(anything):\\n    return anything + ' ' + anything\\necho('Wow!')\", 'def commentary(color):\\n    if color == \\'red\\':\\n        return \"it\\'s a tomato!\"\\n    elif color == \\'green\\':\\n        return \"it\\'s a green peper!\"\\n    elif color == \\'been purple\\':\\n        return \"I don\\'t know what it is. but only bees can see it\"\\n    else:\\n        return \"I have nerver heard of the color\" + color + \".\"\\nprint(commentary(\"blue\"))', 'def doNothing():\\n    pass\\ndoNothing()\\ndef makeASound():\\n    print(\"wolf!\")\\nmakeASound()', 'print(doNothing())', 'thing = None\\nif thing:\\n    print(\"it\\'s some thing.\")\\nelse:\\n    print(\"it\\'s no thing.\")\\nif thing is None:\\n    print(\"it\\'s nothing.\")\\nelse:\\n    print(\"it\\'s something.\")', 'def isNone(thing):\\n    if thing is None:\\n        print(\"it\\'s None\")\\n    elif thing:\\n        print(\"it\\'s True\")\\n    else:\\n        print(\"it\\'s False\")\\n        \\nisNone(None)\\nisNone(False)\\nisNone(True)\\nisNone(\"thing\")\\nisNone(\"\")\\nisNone(0)\\nisNone(0.0)\\nisNone({})\\nisNone()\\nisNone(set())\\nisNone([])\\nisNone(())', 'def isNone(thing):\\n    if thing is None:\\n        print(\"it\\'s None\")\\n    elif thing:\\n        print(\"it\\'s True\")\\n    else:\\n        print(\"it\\'s False\")\\n        \\nisNone(None)\\nisNone(False)\\nisNone(True)\\nisNone(\"thing\")\\nisNone(\"\")\\nisNone(0)\\nisNone(0.0)\\nisNone({})\\nisNone(set())\\nisNone([])\\nisNone(())', \"def menu(wine,entree,dessert):\\n    return {'wine':wine,'entree':entree,'dessert':dessert}\\nmenu('chardonnay','chicken','cake')\", \"# 關鍵字引數\\nmenu(entree='beef',dessert='pie',wine='chardonnay')\", \"# 指定預設參數def \\nmenu(wine,entree,dessert='pudding'):\\n    return {'wine':wine,'entree':entree,'dessert':dessert}\\nmenu('chardonnay','beef')\", \"# 指定預設參數def \\nmenu(wine,entree,dessert='pudding'):\\n    return {'wine':wine,'entree':entree,'dessert':dessert}\\nmenu('chardonnay','beef')\", \"# 指定預設參數\\ndef menu(wine,entree,dessert='pudding'):\\n    return {'wine':wine,'entree':entree,'dessert':dessert}\\nmenu('chardonnay','beef')\", \"def buggy(arg, result=[]):\\n    result.append(arg)\\n    print(result)\\nbuggy('a')\\nbuggy('b')\", \"# 參數宣告位置將影響其值的累加\\ndef buggy(arg, result=[]):\\n    result.append(arg)\\n    print(result)\\nbuggy('a')\\nbuggy('b')\\n\\ndef works(arg):\\n    result=[]\\n    result.append(arg)\\n    print(result)\\nworks('a')\\nworks('b')\", \"# 參數宣告位置將影響其值的累加\\n\\n# result預設為[]\\ndef buggy(arg, result=[]):\\n    result.append(arg)\\n    print(result)\\nbuggy('a')\\nbuggy('b')\\n\\n# result宣告為區域變數\\ndef works(arg):\\n    result=[]\\n    result.append(arg)\\n    return result\\n    print(result)\\nworks('a')\\nworks('b')\\n\\n# result預設為None\\ndef nonbuggy(arg, result=None)\\n    if result is None:\\n        result = []\\n    result.append(arg)\\n    print(result)\\nnonbuggy('a')\\nnonbuggy('b')\", \"# 參數宣告位置將影響其值的累加\\n\\n# result預設為[]\\ndef buggy(arg, result=[]):\\n    result.append(arg)\\n    print(result)\\nbuggy('a')\\nbuggy('b')\\n\\n# result宣告為區域變數\\ndef works(arg):\\n    result=[]\\n    result.append(arg)\\n    return result\\n    print(result)\\nworks('a')\\nworks('b')\\n\\n# result預設為None\\ndef nonbuggy(arg, result=None):\\n    if result is None:\\n        result = []\\n    result.append(arg)\\n    print(result)\\nnonbuggy('a')\\nnonbuggy('b')\", \"# 參數宣告位置將影響其值的累加\\n\\n# result預設為[]\\ndef buggy(arg, result=[]):\\n    result.append(arg)\\n    print(result)\\nbuggy('a')\\nbuggy('b')\\n\\n# result宣告為區域變數\\ndef works(arg):\\n    result=[]\\n    result.append(arg)\\n    print(result)\\n    return result\\nworks('a')\\nworks('b')\\n\\n# result預設為None\\ndef nonbuggy(arg, result=None):\\n    if result is None:\\n        result = []\\n    result.append(arg)\\n    print(result)\\nnonbuggy('a')\\nnonbuggy('b')\", \"def printArgs(*args):\\n    print('Positional argument tuple', args)\\nprintArgs()\", \"def printArgs(*args):\\n    print('Positional argument tuple:', args)\\nprintArgs()\", \"def printArgs(*args):\\n    print('Positional argument tuple:', args)\\nprintArgs()\\nprintArgs('test',3,100,0.0,'Mollie')\", \"def printMore(required1, required2, *args):\\n    print('Need this one:', required1)\\n    print('Need this too:', required2)\\n    print('All the rest:', args)\\nprintMore('apple', 'lemon', 'strawberry', 'honey', 'blueberry')\", \"# 用**來收集關鍵字引數\\ndef printKwargs(**kwargs):\\n    print('keyword arguments:'kwargs)\\nprintkKwargs(wine='merlot',entree'mutton,dessert='macaroon\\n             ')\", \"# 用**來收集關鍵字引數\\ndef printKwargs(**kwargs):\\n    print('keyword arguments:'kwargs)\\nprintkKwargs(wine='merlot',entree'mutton,dessert='macaroon')\", \"# 用**來收集關鍵字引數\\ndef printKwargs(**kwargs):\\n    print('keyword arguments:',kwargs)\\nprintkKwargs(wine='merlot',entree'mutton,dessert='macaroon')\", \"# 用**來收集關鍵字引數\\ndef printKwargs(**kwargs):\\n    print('keyword arguments:',kwargs)\\nprintkKwargs(wine='merlot',entree='mutton,dessert='macaroon')\", \"# 用**來收集關鍵字引數\\ndef printKwargs(**kwargs):\\n    print('keyword arguments:',kwargs)\\nprintkKwargs(wine='merlot',entree='mutton',dessert='macaroon')\", \"# 用**來收集關鍵字引數\\ndef printKwargs(**kwargs):\\n    print('keyword arguments:',kwargs)\\nprintKwargs(wine='merlot',entree='mutton',dessert='macaroon')\", \"# 文件字串： 增加方法的可讀性，我們都會在每個階段做一些文字敘述\\ndef echo(anything):\\n    'echo returns its input argument'\\n    return anything\\ndef printIfTrue(thing, check):\\n    '''\\n    Print the first argument if a second argument is True.\\n    The Operation is:\\n        1. Check whether the second argument is True.\\n        2. If it is, print the first argument.\\n    '''\\n    if check:\\n        print(thing)\\nhelp(echo)\", 'help(printIfTrue)', 'print(echo._doc_)', \"# 文件字串： 增加方法的可讀性，我們都會在每個階段做一些文字敘述\\ndef echo(anything):\\n    'echo returns its input argument'\\n    return anything\\ndef printIfTrue(thing, check):\\n    '''\\n    Print the first argument if a second argument is True.\\n    The Operation is:\\n        1. Check whether the second argument is True.\\n        2. If it is, print the first argument.\\n    '''\\n    if check:\\n        print(thing)\\nhelp(echo)\\nhelp(printIfTrue)\", 'print(echo._doc_)', 'print(echo.__doc__)', 'def answer():\\n    print(42)\\n\\ndef runSomething(func):\\n    func()\\n\\nrunSomething(answer)\\nprint(type(answer))\\nprint(type(answer()))', 'def answer():\\n    return 42\\n    print(42)\\n\\ndef runSomething(func):\\n    func()\\n\\nrunSomething(answer)\\nprint(type(answer))\\nprint(type(answer()))', 'def answer():\\n    print(42)\\n    return 42\\n\\ndef runSomething(func):\\n    func()\\n\\nrunSomething(answer)\\nprint(type(answer))\\nprint(type(answer()))', 'def add_args(arg1, arg2):\\n    print(arg1+arg2)\\ntype(add_args)', 'def addArgs(arg1, arg2):\\n    print(arg1+arg2)\\ntype(addArgs)', 'def runSomethingWithArgs(func, arg1, arg2):\\n    func(arg1,arg2)\\nrunSomethingWithArgs(addArgs, 4, 9)', 'def runSomethingWithArgs(func, arg1, arg2):\\n    func(arg1,arg2)\\nrunSomethingWithArgs(addArgs, 4, 9)\\n\\n#\\ndef sumArgs(*args):\\n    return sum(args)\\ndef runWithPositionalArgs(func, *args):\\n    return func(*args)\\nrunWithPositionalArgs(sumArgs, range(0,11))', 'def runSomethingWithArgs(func, arg1, arg2):\\n    func(arg1,arg2)\\nrunSomethingWithArgs(addArgs, 4, 9)\\n\\n#\\ndef sumArgs(*args):\\n    return sum(args)\\ndef runWithPositionalArgs(func, *args):\\n    return func(*args)\\nrunWithPositionalArgs(sumArgs, for i in range(0,11))', 'def runSomethingWithArgs(func, arg1, arg2):\\n    func(arg1,arg2)\\nrunSomethingWithArgs(addArgs, 4, 9)\\n\\n#\\ndef sumArgs(*args):\\n    return sum(args)\\ndef runWithPositionalArgs(func, *args):\\n    return func(*args)\\nrunWithPositionalArgs(sumArgs, i for i in range(0,11))', 'def runSomethingWithArgs(func, arg1, arg2):\\n    func(arg1,arg2)\\nrunSomethingWithArgs(addArgs, 4, 9)\\n\\n#\\ndef sumArgs(*args):\\n    return sum(args)\\ndef runWithPositionalArgs(func, *args):\\n    return func(*args)\\nrunWithPositionalArgs(sumArgs, [0,10,2,8,7])', 'def runSomethingWithArgs(func, arg1, arg2):\\n    func(arg1,arg2)\\nrunSomethingWithArgs(addArgs, 4, 9)\\n\\n#\\ndef sumArgs(*args):\\n    return sum(args)\\ndef runWithPositionalArgs(func, *args):\\n    return func(*args)\\nrunWithPositionalArgs(sumArgs, (1,2,3,4,5))', 'def runSomethingWithArgs(func, arg1, arg2):\\n    func(arg1,arg2)\\nrunSomethingWithArgs(addArgs, 4, 9)\\n\\n#\\ndef sumArgs(*args):\\n    return sum(args)\\ndef runWithPositionalArgs(func, *args):\\n    return func(*args)\\nrunWithPositionalArgs(sumArgs,1,2,3,4,5)', 'def outer(a,b):\\n    def inner(c,d):\\n        return c+d\\n    return inner(a,b)\\n\\nouter(3,4)', 'def knights(saying):\\n    def inner(quote):\\n        return \"We are the knights who say: \\'%s\\'\" %quote\\n    return inner(saying)\\n\\nknights(\\'Ni!\\')', 'def knights2(saying):\\n    def inner2():\\n        # inner2會直接使用外面的saying參數，而不是以引數來取得\\n        return \"We are the knights who say:\\'%s\\'\" %saying \\n    # knights2會回傳inner2函數名稱\\n    return inner2 ', \"# 內部函式知道被傳入saying的值，並且會記得它\\nargh = knights2('arghhhhh!')\\nouch = knights2('ooooouch!')\\ntype(argh)\\ntype(ouch)\", \"# 內部函式知道被傳入saying的值，並且會記得它\\nargh = knights2('arghhhhh!')\\nouch = knights2('ooooouch!')\\nprint(type(argh)) # argh is a untriggered inner2('arghhhhh!') function\\nargh()\\nouch()\", \"# 內部函式知道被傳入saying的值，並且會記得它\\nargh = knights2('arghhhhh!')\\nouch = knights2('ooooouch!')\\nprint(type(argh)) # argh is a untriggered inner2('arghhhhh!') function\\nprint(argh())\\nprint(ouch())\", \"# 內部函式知道被傳入saying的值，並且會記得它\\n# argh is a untriggered inner2('arghhhhh!') function\\nargh = knights2('arghhhhh!')\\n# ouch is a untriggered inner2('ooooouch!') function\\nouch = knights2('ooooouch!')\\nprint(type(argh))\\nprint(type(ouch))\\nprint(argh())\\nprint(ouch())\", \"# 內部函式知道被傳入saying的值，並且會記得它\\nargh = knights2('arghhhhh!')\\n# argh is a untriggered inner2('arghhhhh!') function\\nprint(argh)\\nouch = knights2('ooooouch!')\\n# ouch is a untriggered inner2('ooooouch!') function\\nprint(ouch)\", \"# 內部函式知道被傳入saying的值，並且會記得它\\nargh = knights2('arghhhhh!')\\n# argh is a untriggered inner2('arghhhhh!') function\\nprint(argh)\\nprint(type(argh))\\nouch = knights2('ooooouch!')\\n# ouch is a untriggered inner2('ooooouch!') function\\nprint(ouch)\\nprint(type(ouch))\", 'print(argh())\\nprint(ouch())', \"stairs = ['thud', 'meow', 'thud', 'hiss']\\ndef editStory(words,func):\\n    for word in words:\\n        print(func(word))\\ndef enliven(word):\\n    return word.capitalize()+'!'\\neditStory(stairs, enliven)\", \"# 因為enliven的函式很簡單，直接換成lambda的方式就好了\\neditStory(stairs, lambda word: word.capitalize() + '!')\", \"# 因為enliven的函式很簡單，直接換成lambda的方式就好了\\neditStory(stairs, lambda word: word.capitalize() + '!')\", \"def document_it(func):\\n    def new_function(*args,**kwargs):\\n        print('Running function:',func.__name__)\\n        print('Positional arguments:',args)\\n        print('keywords arguments:', kwargs)\\n        result = func(*args, **kwargs)\\n        print('Result:',result)\\n        return result\\n    return new_function\\n\\ndef add_ints(a,b):\\n    return a+b\\nprint(add_ints(3,5))\\n\\ncooler_add_ints = document_it(add_ints) # 手動的裝飾器宣告\\ncooler_add_ints(5,3)\", \"def document_it(func):\\n    def new_function(*args,**kwargs):\\n        print('Running function:',func.__name__)\\n        print('Positional arguments:',args)\\n        print('keywords arguments:', kwargs)\\n        result = func(*args, **kwargs)\\n        print('Result:',result)\\n        return result\\n    return new_function\\n\\ndef add_ints(a,b):\\n    return a+b\\nprint(add_ints(3,5))\\n\\ncooler_add_ints = document_it(add_ints) # 手動的裝飾器宣告\\nprint(cooler_add_ints(5,3))\", '# 你也可以在想要裝飾的函式前添加@decorator_name來取代手動指派\\n@document_it\\ndef add_ints(a,b):\\n    return a+b\\nadd_ints(3,5)', '# 同一個函式可以有兩個以上的裝飾器\\n#裝飾器2\\ndef square_it(func):\\n    def new_function(*args,**kwargs):\\n        result = func(*args,**kwargs)\\n        return result*result\\n    return new_function\\n\\n@ducument_it\\n@square_it\\ndef add_ints(a,b):\\n    return a+b\\n\\nadd(3,5)', '# 同一個函式可以有兩個以上的裝飾器\\n#裝飾器2\\ndef square_it(func):\\n    def new_function(*args,**kwargs):\\n        result = func(*args,**kwargs)\\n        return result*result\\n    return new_function\\n\\n@ducument_it\\n@square_it\\ndef add_ints(a,b):\\n    return a+b\\n\\nadd_ints(3,5)', \"# 裝飾器編輯\\ndef document_it(func):\\n    def new_function(*args,**kwargs):\\n        print('Running function:',func.__name__)\\n        print('Positional arguments:',args)\\n        print('keywords arguments:', kwargs)\\n        result = func(*args, **kwargs)\\n        print('Result:',result)\\n        return result\\n    return new_function\\n# 欲裝飾方法\\ndef add_ints(a,b):\\n    return a+b\\nadd_ints(3,5) #8\\n\\n# 手動指派裝飾器\\ncooler_add_ints = document_it(add_ints) \\nprint(cooler_add_ints(5,3))\", '# 同一個函式可以有兩個以上的裝飾器\\n#裝飾器2\\ndef square_it(func):\\n    def new_function(*args,**kwargs):\\n        result = func(*args,**kwargs)\\n        return result*result\\n    return new_function\\n\\n@document_it\\n@square_it\\ndef add_ints(a,b):\\n    return a+b\\n\\nadd_ints(3,5)', '# 用yield陳述值回傳值，而不是return\\ndef my_range(first=0, last=10, step=1):\\n    number = first\\n    while number < last:\\n        yield number\\n        number += step\\n\\nprint(my_range)\\nranger = my_range(1,5)\\nfor i in ranger:\\n    print(i)', \"animal = 'fruitbat'\\nprint('at the top level:', animal)\\ndef print_global():\\n    print('inside print global:', animal)\\nprint_global()\", \"print('at the top level:', animal)\\ndef change_and_print_global():\\n    print('inside change_and_print_global:', animal)\\n    animal = 'wombat'\\n    print('print after change:', animal)\\nchange_and_print_global()\", \"def change_local():\\n    animal = 'wombat'\\n    print('inside change_local:', animal, id(animal))\\n    \\nchange_local()\\nprint('at the top level:',animal, id(animal))\", \"animal = 'fruitbat'\\ndef change_and_print_global():\\n    global animal = 'wombat'\\n    print('inside change_and_print_global:', animal, id(animal))\\n    \\nprint('at the top level:',animal, id(animal))\\nchange_and_print_global()\", \"animal = 'fruitbat'\\ndef change_and_print_global():\\n    global animal \\n    animal = 'wombat'\\n    print('inside change_and_print_global:', animal, id(animal))\\n    \\nprint('at the top level:',animal, id(animal))\\nchange_and_print_global()\", \"animal = 'fruitbat'\\ndef change_and_print_global():\\n    global animal \\n    animal = 'wombat'\\n    print('inside change_and_print_global:', animal, id(animal))\\n\\nchange_and_print_global()\\nprint('at the top level:',animal, id(animal))\", \"# globals() & locals() 回傳全域/區域空間的字典內容\\nanimal = 'fruitbat'\\ndef change_local():\\n    animal = 'wombat' # local variable\\n    print('locals:', locals())\\nprint(animal)\\nchange_local()\", \"print('globals':globals())\", \"print('globals:',globals())\", \"reset()\\n# globals() & locals() 回傳全域/區域空間的字典內容\\nanimal = 'fruitbat'\\ndef change_local():\\n    animal = 'wombat' # local variable\\n    print('locals:', locals())\\nprint(animal)\\nchange_local()\", \"get_ipython().run_line_magic('pinfo', 'del')\", \"get_ipython().run_line_magic('pinfo', 'del')\", \"get_ipython().run_line_magic('pinfo', 'clear')\", \"get_ipython().run_line_magic('pinfo', 'reset')\", \"get_ipython().run_line_magic('reset', '-f')\", \"\\nprint('globals:',globals())\", \"# globals() & locals() 回傳全域/區域空間的字典內容\\nanimal = 'fruitbat'\\ndef change_local():\\n    animal = 'wombat' # local variable\\n    print('locals:', locals())\\nprint(animal)\\nchange_local()\", \"\\nprint('globals:',globals())\", \"print('globals:',globals(animal))\", \"print('globals:',animal.globals())\", \"print('globals:',globals())\"], 'get_ipython': <bound method InteractiveShell.get_ipython of <ipykernel.zmqshell.ZMQInteractiveShell object at 0x7f5356579b38>>, '_i101': \"# globals() & locals() 回傳全域/區域空間的字典內容\\nanimal = 'fruitbat'\\ndef change_local():\\n    animal = 'wombat' # local variable\\n    print('locals:', locals())\\nprint(animal)\\nchange_local()\", '_ii': \"print('globals:',globals(animal))\", 'In': ['', '# 屬性式generator\\naTuple = (i for i in range(0,10))\\nprint(type(aTuple))\\n# 可以用for loop帶出值\\nfor i in aTuple:\\n    print(i)', '# 產生器無法被重複使用，資料被帶出就沒了\\nnumberlist = list(aTuple) # windows 不支援...\\nnumberlist', '# windows不支援這種寫法 嫩!\\nli = list(range(0,10,2))\\nli', \"#利用dict(zip())製作字典\\nenglish = 'Mon', 'Tue', 'Wed'\\nspanish = 'lunes', 'elmartes', 'miercoles'\\n# list(zip(english,spanish))\\ndict(zip(english,spanish)) # windows不能運行，爛！\", 'def do_nothing():\\n    pass\\ndo_nothing()', 'def do_nothing():\\n    pass\\ndo_nothing()', 'def do_nothing():\\n    pass\\ndo_nothing()\\ndef makeASound():\\n    print(\"wolf!\")\\nmakeASound()', 'def agree()\\n    return True\\nif agree():\\n    print(\"Splendid!\")\\nelse:\\n    print(\"That\\'s unexpected.\")', 'def agree():\\n    return True\\nif agree():\\n    print(\"Splendid!\")\\nelse:\\n    print(\"That\\'s unexpected.\")', \"def echo(anything):\\n    return anything + ' ' + anything\\necho(Wow!)\", \"def echo(anything):\\n    return anything + ' ' + anything\\necho('Wow!')\", 'def commentary(color):\\n    if color == \\'red\\':\\n        return \"it\\'s a tomato!\"\\n    elif color == \\'green\\':\\n        return \"it\\'s a green peper!\"\\n    elif color == \\'been purple\\':\\n        return \"I don\\'t know what it is. but only bees can see it\"\\n    else:\\n        return \"I have nerver heard of the color\" + color + \".\"\\ncommentary(blue)', 'def commentary(color):\\n    if color == \\'red\\':\\n        return \"it\\'s a tomato!\"\\n    elif color == \\'green\\':\\n        return \"it\\'s a green peper!\"\\n    elif color == \\'been purple\\':\\n        return \"I don\\'t know what it is. but only bees can see it\"\\n    else:\\n        return \"I have nerver heard of the color\" + color + \".\"\\ncommentary(\"blue\")', 'def commentary(color):\\n    if color == \\'red\\':\\n        return \"it\\'s a tomato!\"\\n    elif color == \\'green\\':\\n        return \"it\\'s a green peper!\"\\n    elif color == \\'been purple\\':\\n        return \"I don\\'t know what it is. but only bees can see it\"\\n    else:\\n        return \"I have nerver heard of the color\" + color + \".\"\\nprint(commentary(\"blue\"))', 'print(doNothing())', 'print(doNothing())', 'def doNothing():\\n    pass\\ndoNothing()\\ndef makeASound():\\n    print(\"wolf!\")\\nmakeASound()', 'def agree():\\n    return True\\nif agree():\\n    print(\"Splendid!\")\\nelse:\\n    print(\"That\\'s unexpected.\")', \"def echo(anything):\\n    return anything + ' ' + anything\\necho('Wow!')\", 'def commentary(color):\\n    if color == \\'red\\':\\n        return \"it\\'s a tomato!\"\\n    elif color == \\'green\\':\\n        return \"it\\'s a green peper!\"\\n    elif color == \\'been purple\\':\\n        return \"I don\\'t know what it is. but only bees can see it\"\\n    else:\\n        return \"I have nerver heard of the color\" + color + \".\"\\nprint(commentary(\"blue\"))', 'def doNothing():\\n    pass\\ndoNothing()\\ndef makeASound():\\n    print(\"wolf!\")\\nmakeASound()', 'print(doNothing())', 'thing = None\\nif thing:\\n    print(\"it\\'s some thing.\")\\nelse:\\n    print(\"it\\'s no thing.\")\\nif thing is None:\\n    print(\"it\\'s nothing.\")\\nelse:\\n    print(\"it\\'s something.\")', 'def isNone(thing):\\n    if thing is None:\\n        print(\"it\\'s None\")\\n    elif thing:\\n        print(\"it\\'s True\")\\n    else:\\n        print(\"it\\'s False\")\\n        \\nisNone(None)\\nisNone(False)\\nisNone(True)\\nisNone(\"thing\")\\nisNone(\"\")\\nisNone(0)\\nisNone(0.0)\\nisNone({})\\nisNone()\\nisNone(set())\\nisNone([])\\nisNone(())', 'def isNone(thing):\\n    if thing is None:\\n        print(\"it\\'s None\")\\n    elif thing:\\n        print(\"it\\'s True\")\\n    else:\\n        print(\"it\\'s False\")\\n        \\nisNone(None)\\nisNone(False)\\nisNone(True)\\nisNone(\"thing\")\\nisNone(\"\")\\nisNone(0)\\nisNone(0.0)\\nisNone({})\\nisNone(set())\\nisNone([])\\nisNone(())', \"def menu(wine,entree,dessert):\\n    return {'wine':wine,'entree':entree,'dessert':dessert}\\nmenu('chardonnay','chicken','cake')\", \"# 關鍵字引數\\nmenu(entree='beef',dessert='pie',wine='chardonnay')\", \"# 指定預設參數def \\nmenu(wine,entree,dessert='pudding'):\\n    return {'wine':wine,'entree':entree,'dessert':dessert}\\nmenu('chardonnay','beef')\", \"# 指定預設參數def \\nmenu(wine,entree,dessert='pudding'):\\n    return {'wine':wine,'entree':entree,'dessert':dessert}\\nmenu('chardonnay','beef')\", \"# 指定預設參數\\ndef menu(wine,entree,dessert='pudding'):\\n    return {'wine':wine,'entree':entree,'dessert':dessert}\\nmenu('chardonnay','beef')\", \"def buggy(arg, result=[]):\\n    result.append(arg)\\n    print(result)\\nbuggy('a')\\nbuggy('b')\", \"# 參數宣告位置將影響其值的累加\\ndef buggy(arg, result=[]):\\n    result.append(arg)\\n    print(result)\\nbuggy('a')\\nbuggy('b')\\n\\ndef works(arg):\\n    result=[]\\n    result.append(arg)\\n    print(result)\\nworks('a')\\nworks('b')\", \"# 參數宣告位置將影響其值的累加\\n\\n# result預設為[]\\ndef buggy(arg, result=[]):\\n    result.append(arg)\\n    print(result)\\nbuggy('a')\\nbuggy('b')\\n\\n# result宣告為區域變數\\ndef works(arg):\\n    result=[]\\n    result.append(arg)\\n    return result\\n    print(result)\\nworks('a')\\nworks('b')\\n\\n# result預設為None\\ndef nonbuggy(arg, result=None)\\n    if result is None:\\n        result = []\\n    result.append(arg)\\n    print(result)\\nnonbuggy('a')\\nnonbuggy('b')\", \"# 參數宣告位置將影響其值的累加\\n\\n# result預設為[]\\ndef buggy(arg, result=[]):\\n    result.append(arg)\\n    print(result)\\nbuggy('a')\\nbuggy('b')\\n\\n# result宣告為區域變數\\ndef works(arg):\\n    result=[]\\n    result.append(arg)\\n    return result\\n    print(result)\\nworks('a')\\nworks('b')\\n\\n# result預設為None\\ndef nonbuggy(arg, result=None):\\n    if result is None:\\n        result = []\\n    result.append(arg)\\n    print(result)\\nnonbuggy('a')\\nnonbuggy('b')\", \"# 參數宣告位置將影響其值的累加\\n\\n# result預設為[]\\ndef buggy(arg, result=[]):\\n    result.append(arg)\\n    print(result)\\nbuggy('a')\\nbuggy('b')\\n\\n# result宣告為區域變數\\ndef works(arg):\\n    result=[]\\n    result.append(arg)\\n    print(result)\\n    return result\\nworks('a')\\nworks('b')\\n\\n# result預設為None\\ndef nonbuggy(arg, result=None):\\n    if result is None:\\n        result = []\\n    result.append(arg)\\n    print(result)\\nnonbuggy('a')\\nnonbuggy('b')\", \"def printArgs(*args):\\n    print('Positional argument tuple', args)\\nprintArgs()\", \"def printArgs(*args):\\n    print('Positional argument tuple:', args)\\nprintArgs()\", \"def printArgs(*args):\\n    print('Positional argument tuple:', args)\\nprintArgs()\\nprintArgs('test',3,100,0.0,'Mollie')\", \"def printMore(required1, required2, *args):\\n    print('Need this one:', required1)\\n    print('Need this too:', required2)\\n    print('All the rest:', args)\\nprintMore('apple', 'lemon', 'strawberry', 'honey', 'blueberry')\", \"# 用**來收集關鍵字引數\\ndef printKwargs(**kwargs):\\n    print('keyword arguments:'kwargs)\\nprintkKwargs(wine='merlot',entree'mutton,dessert='macaroon\\n             ')\", \"# 用**來收集關鍵字引數\\ndef printKwargs(**kwargs):\\n    print('keyword arguments:'kwargs)\\nprintkKwargs(wine='merlot',entree'mutton,dessert='macaroon')\", \"# 用**來收集關鍵字引數\\ndef printKwargs(**kwargs):\\n    print('keyword arguments:',kwargs)\\nprintkKwargs(wine='merlot',entree'mutton,dessert='macaroon')\", \"# 用**來收集關鍵字引數\\ndef printKwargs(**kwargs):\\n    print('keyword arguments:',kwargs)\\nprintkKwargs(wine='merlot',entree='mutton,dessert='macaroon')\", \"# 用**來收集關鍵字引數\\ndef printKwargs(**kwargs):\\n    print('keyword arguments:',kwargs)\\nprintkKwargs(wine='merlot',entree='mutton',dessert='macaroon')\", \"# 用**來收集關鍵字引數\\ndef printKwargs(**kwargs):\\n    print('keyword arguments:',kwargs)\\nprintKwargs(wine='merlot',entree='mutton',dessert='macaroon')\", \"# 文件字串： 增加方法的可讀性，我們都會在每個階段做一些文字敘述\\ndef echo(anything):\\n    'echo returns its input argument'\\n    return anything\\ndef printIfTrue(thing, check):\\n    '''\\n    Print the first argument if a second argument is True.\\n    The Operation is:\\n        1. Check whether the second argument is True.\\n        2. If it is, print the first argument.\\n    '''\\n    if check:\\n        print(thing)\\nhelp(echo)\", 'help(printIfTrue)', 'print(echo._doc_)', \"# 文件字串： 增加方法的可讀性，我們都會在每個階段做一些文字敘述\\ndef echo(anything):\\n    'echo returns its input argument'\\n    return anything\\ndef printIfTrue(thing, check):\\n    '''\\n    Print the first argument if a second argument is True.\\n    The Operation is:\\n        1. Check whether the second argument is True.\\n        2. If it is, print the first argument.\\n    '''\\n    if check:\\n        print(thing)\\nhelp(echo)\\nhelp(printIfTrue)\", 'print(echo._doc_)', 'print(echo.__doc__)', 'def answer():\\n    print(42)\\n\\ndef runSomething(func):\\n    func()\\n\\nrunSomething(answer)\\nprint(type(answer))\\nprint(type(answer()))', 'def answer():\\n    return 42\\n    print(42)\\n\\ndef runSomething(func):\\n    func()\\n\\nrunSomething(answer)\\nprint(type(answer))\\nprint(type(answer()))', 'def answer():\\n    print(42)\\n    return 42\\n\\ndef runSomething(func):\\n    func()\\n\\nrunSomething(answer)\\nprint(type(answer))\\nprint(type(answer()))', 'def add_args(arg1, arg2):\\n    print(arg1+arg2)\\ntype(add_args)', 'def addArgs(arg1, arg2):\\n    print(arg1+arg2)\\ntype(addArgs)', 'def runSomethingWithArgs(func, arg1, arg2):\\n    func(arg1,arg2)\\nrunSomethingWithArgs(addArgs, 4, 9)', 'def runSomethingWithArgs(func, arg1, arg2):\\n    func(arg1,arg2)\\nrunSomethingWithArgs(addArgs, 4, 9)\\n\\n#\\ndef sumArgs(*args):\\n    return sum(args)\\ndef runWithPositionalArgs(func, *args):\\n    return func(*args)\\nrunWithPositionalArgs(sumArgs, range(0,11))', 'def runSomethingWithArgs(func, arg1, arg2):\\n    func(arg1,arg2)\\nrunSomethingWithArgs(addArgs, 4, 9)\\n\\n#\\ndef sumArgs(*args):\\n    return sum(args)\\ndef runWithPositionalArgs(func, *args):\\n    return func(*args)\\nrunWithPositionalArgs(sumArgs, for i in range(0,11))', 'def runSomethingWithArgs(func, arg1, arg2):\\n    func(arg1,arg2)\\nrunSomethingWithArgs(addArgs, 4, 9)\\n\\n#\\ndef sumArgs(*args):\\n    return sum(args)\\ndef runWithPositionalArgs(func, *args):\\n    return func(*args)\\nrunWithPositionalArgs(sumArgs, i for i in range(0,11))', 'def runSomethingWithArgs(func, arg1, arg2):\\n    func(arg1,arg2)\\nrunSomethingWithArgs(addArgs, 4, 9)\\n\\n#\\ndef sumArgs(*args):\\n    return sum(args)\\ndef runWithPositionalArgs(func, *args):\\n    return func(*args)\\nrunWithPositionalArgs(sumArgs, [0,10,2,8,7])', 'def runSomethingWithArgs(func, arg1, arg2):\\n    func(arg1,arg2)\\nrunSomethingWithArgs(addArgs, 4, 9)\\n\\n#\\ndef sumArgs(*args):\\n    return sum(args)\\ndef runWithPositionalArgs(func, *args):\\n    return func(*args)\\nrunWithPositionalArgs(sumArgs, (1,2,3,4,5))', 'def runSomethingWithArgs(func, arg1, arg2):\\n    func(arg1,arg2)\\nrunSomethingWithArgs(addArgs, 4, 9)\\n\\n#\\ndef sumArgs(*args):\\n    return sum(args)\\ndef runWithPositionalArgs(func, *args):\\n    return func(*args)\\nrunWithPositionalArgs(sumArgs,1,2,3,4,5)', 'def outer(a,b):\\n    def inner(c,d):\\n        return c+d\\n    return inner(a,b)\\n\\nouter(3,4)', 'def knights(saying):\\n    def inner(quote):\\n        return \"We are the knights who say: \\'%s\\'\" %quote\\n    return inner(saying)\\n\\nknights(\\'Ni!\\')', 'def knights2(saying):\\n    def inner2():\\n        # inner2會直接使用外面的saying參數，而不是以引數來取得\\n        return \"We are the knights who say:\\'%s\\'\" %saying \\n    # knights2會回傳inner2函數名稱\\n    return inner2 ', \"# 內部函式知道被傳入saying的值，並且會記得它\\nargh = knights2('arghhhhh!')\\nouch = knights2('ooooouch!')\\ntype(argh)\\ntype(ouch)\", \"# 內部函式知道被傳入saying的值，並且會記得它\\nargh = knights2('arghhhhh!')\\nouch = knights2('ooooouch!')\\nprint(type(argh)) # argh is a untriggered inner2('arghhhhh!') function\\nargh()\\nouch()\", \"# 內部函式知道被傳入saying的值，並且會記得它\\nargh = knights2('arghhhhh!')\\nouch = knights2('ooooouch!')\\nprint(type(argh)) # argh is a untriggered inner2('arghhhhh!') function\\nprint(argh())\\nprint(ouch())\", \"# 內部函式知道被傳入saying的值，並且會記得它\\n# argh is a untriggered inner2('arghhhhh!') function\\nargh = knights2('arghhhhh!')\\n# ouch is a untriggered inner2('ooooouch!') function\\nouch = knights2('ooooouch!')\\nprint(type(argh))\\nprint(type(ouch))\\nprint(argh())\\nprint(ouch())\", \"# 內部函式知道被傳入saying的值，並且會記得它\\nargh = knights2('arghhhhh!')\\n# argh is a untriggered inner2('arghhhhh!') function\\nprint(argh)\\nouch = knights2('ooooouch!')\\n# ouch is a untriggered inner2('ooooouch!') function\\nprint(ouch)\", \"# 內部函式知道被傳入saying的值，並且會記得它\\nargh = knights2('arghhhhh!')\\n# argh is a untriggered inner2('arghhhhh!') function\\nprint(argh)\\nprint(type(argh))\\nouch = knights2('ooooouch!')\\n# ouch is a untriggered inner2('ooooouch!') function\\nprint(ouch)\\nprint(type(ouch))\", 'print(argh())\\nprint(ouch())', \"stairs = ['thud', 'meow', 'thud', 'hiss']\\ndef editStory(words,func):\\n    for word in words:\\n        print(func(word))\\ndef enliven(word):\\n    return word.capitalize()+'!'\\neditStory(stairs, enliven)\", \"# 因為enliven的函式很簡單，直接換成lambda的方式就好了\\neditStory(stairs, lambda word: word.capitalize() + '!')\", \"# 因為enliven的函式很簡單，直接換成lambda的方式就好了\\neditStory(stairs, lambda word: word.capitalize() + '!')\", \"def document_it(func):\\n    def new_function(*args,**kwargs):\\n        print('Running function:',func.__name__)\\n        print('Positional arguments:',args)\\n        print('keywords arguments:', kwargs)\\n        result = func(*args, **kwargs)\\n        print('Result:',result)\\n        return result\\n    return new_function\\n\\ndef add_ints(a,b):\\n    return a+b\\nprint(add_ints(3,5))\\n\\ncooler_add_ints = document_it(add_ints) # 手動的裝飾器宣告\\ncooler_add_ints(5,3)\", \"def document_it(func):\\n    def new_function(*args,**kwargs):\\n        print('Running function:',func.__name__)\\n        print('Positional arguments:',args)\\n        print('keywords arguments:', kwargs)\\n        result = func(*args, **kwargs)\\n        print('Result:',result)\\n        return result\\n    return new_function\\n\\ndef add_ints(a,b):\\n    return a+b\\nprint(add_ints(3,5))\\n\\ncooler_add_ints = document_it(add_ints) # 手動的裝飾器宣告\\nprint(cooler_add_ints(5,3))\", '# 你也可以在想要裝飾的函式前添加@decorator_name來取代手動指派\\n@document_it\\ndef add_ints(a,b):\\n    return a+b\\nadd_ints(3,5)', '# 同一個函式可以有兩個以上的裝飾器\\n#裝飾器2\\ndef square_it(func):\\n    def new_function(*args,**kwargs):\\n        result = func(*args,**kwargs)\\n        return result*result\\n    return new_function\\n\\n@ducument_it\\n@square_it\\ndef add_ints(a,b):\\n    return a+b\\n\\nadd(3,5)', '# 同一個函式可以有兩個以上的裝飾器\\n#裝飾器2\\ndef square_it(func):\\n    def new_function(*args,**kwargs):\\n        result = func(*args,**kwargs)\\n        return result*result\\n    return new_function\\n\\n@ducument_it\\n@square_it\\ndef add_ints(a,b):\\n    return a+b\\n\\nadd_ints(3,5)', \"# 裝飾器編輯\\ndef document_it(func):\\n    def new_function(*args,**kwargs):\\n        print('Running function:',func.__name__)\\n        print('Positional arguments:',args)\\n        print('keywords arguments:', kwargs)\\n        result = func(*args, **kwargs)\\n        print('Result:',result)\\n        return result\\n    return new_function\\n# 欲裝飾方法\\ndef add_ints(a,b):\\n    return a+b\\nadd_ints(3,5) #8\\n\\n# 手動指派裝飾器\\ncooler_add_ints = document_it(add_ints) \\nprint(cooler_add_ints(5,3))\", '# 同一個函式可以有兩個以上的裝飾器\\n#裝飾器2\\ndef square_it(func):\\n    def new_function(*args,**kwargs):\\n        result = func(*args,**kwargs)\\n        return result*result\\n    return new_function\\n\\n@document_it\\n@square_it\\ndef add_ints(a,b):\\n    return a+b\\n\\nadd_ints(3,5)', '# 用yield陳述值回傳值，而不是return\\ndef my_range(first=0, last=10, step=1):\\n    number = first\\n    while number < last:\\n        yield number\\n        number += step\\n\\nprint(my_range)\\nranger = my_range(1,5)\\nfor i in ranger:\\n    print(i)', \"animal = 'fruitbat'\\nprint('at the top level:', animal)\\ndef print_global():\\n    print('inside print global:', animal)\\nprint_global()\", \"print('at the top level:', animal)\\ndef change_and_print_global():\\n    print('inside change_and_print_global:', animal)\\n    animal = 'wombat'\\n    print('print after change:', animal)\\nchange_and_print_global()\", \"def change_local():\\n    animal = 'wombat'\\n    print('inside change_local:', animal, id(animal))\\n    \\nchange_local()\\nprint('at the top level:',animal, id(animal))\", \"animal = 'fruitbat'\\ndef change_and_print_global():\\n    global animal = 'wombat'\\n    print('inside change_and_print_global:', animal, id(animal))\\n    \\nprint('at the top level:',animal, id(animal))\\nchange_and_print_global()\", \"animal = 'fruitbat'\\ndef change_and_print_global():\\n    global animal \\n    animal = 'wombat'\\n    print('inside change_and_print_global:', animal, id(animal))\\n    \\nprint('at the top level:',animal, id(animal))\\nchange_and_print_global()\", \"animal = 'fruitbat'\\ndef change_and_print_global():\\n    global animal \\n    animal = 'wombat'\\n    print('inside change_and_print_global:', animal, id(animal))\\n\\nchange_and_print_global()\\nprint('at the top level:',animal, id(animal))\", \"# globals() & locals() 回傳全域/區域空間的字典內容\\nanimal = 'fruitbat'\\ndef change_local():\\n    animal = 'wombat' # local variable\\n    print('locals:', locals())\\nprint(animal)\\nchange_local()\", \"print('globals':globals())\", \"print('globals:',globals())\", \"reset()\\n# globals() & locals() 回傳全域/區域空間的字典內容\\nanimal = 'fruitbat'\\ndef change_local():\\n    animal = 'wombat' # local variable\\n    print('locals:', locals())\\nprint(animal)\\nchange_local()\", \"get_ipython().run_line_magic('pinfo', 'del')\", \"get_ipython().run_line_magic('pinfo', 'del')\", \"get_ipython().run_line_magic('pinfo', 'clear')\", \"get_ipython().run_line_magic('pinfo', 'reset')\", \"get_ipython().run_line_magic('reset', '-f')\", \"\\nprint('globals:',globals())\", \"# globals() & locals() 回傳全域/區域空間的字典內容\\nanimal = 'fruitbat'\\ndef change_local():\\n    animal = 'wombat' # local variable\\n    print('locals:', locals())\\nprint(animal)\\nchange_local()\", \"\\nprint('globals:',globals())\", \"print('globals:',globals(animal))\", \"print('globals:',animal.globals())\", \"print('globals:',globals())\"], '_i100': \"\\nprint('globals:',globals())\", '_i103': \"print('globals:',globals(animal))\", 'quit': <IPython.core.autocall.ZMQExitAutocall object at 0x7f5356617898>, 'Out': {}, '_i104': \"print('globals:',animal.globals())\", 'animal': 'fruitbat', '__name__': '__main__', '_i105': \"print('globals:',globals())\", '__builtin__': <module 'builtins' (built-in)>, '_oh': {}, '_i102': \"\\nprint('globals:',globals())\", 'exit': <IPython.core.autocall.ZMQExitAutocall object at 0x7f5356617898>, '_iii': \"\\nprint('globals:',globals())\", '_i': \"print('globals:',animal.globals())\", '__builtins__': <module 'builtins' (built-in)>, 'change_local': <function change_local at 0x7f5345f04598>, '_dh': ['/home/mollie/Documents']}\n"
     ]
    }
   ],
   "source": [
    "print('globals:',globals())"
   ]
  },
  {
   "cell_type": "code",
   "execution_count": 106,
   "metadata": {},
   "outputs": [
    {
     "name": "stdout",
     "output_type": "stream",
     "text": [
      "This function is named: amazing\n",
      "And its docstring is: \n",
      "    This is the amazing function.\n",
      "    What to see it again?\n",
      "    \n"
     ]
    }
   ],
   "source": [
    "def amazing():\n",
    "    '''\n",
    "    This is the amazing function.\n",
    "    What to see it again?\n",
    "    '''\n",
    "    print('This function is named:', amazing.__name__)\n",
    "    print('And its docstring is:', amazing.__doc__)\n",
    "\n",
    "amazing()\n",
    "# 主程式叫作main"
   ]
  },
  {
   "cell_type": "markdown",
   "metadata": {},
   "source": [
    "### TRY EXCEPT"
   ]
  },
  {
   "cell_type": "code",
   "execution_count": 107,
   "metadata": {},
   "outputs": [
    {
     "ename": "IndexError",
     "evalue": "list index out of range",
     "output_type": "error",
     "traceback": [
      "\u001b[0;31m---------------------------------------------------------------------------\u001b[0m",
      "\u001b[0;31mIndexError\u001b[0m                                Traceback (most recent call last)",
      "\u001b[0;32m<ipython-input-107-8a192b010ae9>\u001b[0m in \u001b[0;36m<module>\u001b[0;34m()\u001b[0m\n\u001b[1;32m      1\u001b[0m \u001b[0mshortList\u001b[0m \u001b[0;34m=\u001b[0m \u001b[0;34m[\u001b[0m\u001b[0;36m1\u001b[0m\u001b[0;34m,\u001b[0m \u001b[0;36m2\u001b[0m\u001b[0;34m,\u001b[0m \u001b[0;36m3\u001b[0m\u001b[0;34m]\u001b[0m\u001b[0;34m\u001b[0m\u001b[0m\n\u001b[1;32m      2\u001b[0m \u001b[0mposition\u001b[0m \u001b[0;34m=\u001b[0m \u001b[0;36m5\u001b[0m\u001b[0;34m\u001b[0m\u001b[0m\n\u001b[0;32m----> 3\u001b[0;31m \u001b[0mshortList\u001b[0m\u001b[0;34m[\u001b[0m\u001b[0mposition\u001b[0m\u001b[0;34m]\u001b[0m\u001b[0;34m\u001b[0m\u001b[0m\n\u001b[0m",
      "\u001b[0;31mIndexError\u001b[0m: list index out of range"
     ]
    }
   ],
   "source": [
    "shortList = [1, 2, 3]\n",
    "position = 5\n",
    "shortList[position]"
   ]
  },
  {
   "cell_type": "code",
   "execution_count": 109,
   "metadata": {},
   "outputs": [
    {
     "name": "stdout",
     "output_type": "stream",
     "text": [
      "Need a position between 0 and 2 but got 5\n"
     ]
    }
   ],
   "source": [
    "shortList = [1, 2, 3]\n",
    "position = 5\n",
    "try:\n",
    "    shortList[position]\n",
    "except:\n",
    "    print('Need a position between 0 and', len(shortList)-1, 'but got', position)"
   ]
  },
  {
   "cell_type": "code",
   "execution_count": 114,
   "metadata": {},
   "outputs": [
    {
     "name": "stdout",
     "output_type": "stream",
     "text": [
      "Position[q to quit]?5\n",
      "Bad index: 5\n",
      "Position[q to quit]?1\n",
      "2\n",
      "Position[q to quit]?0.1\n",
      "somthing else broke: invalid literal for int() with base 10: '0.1'\n",
      "Position[q to quit]?1+1\n",
      "somthing else broke: invalid literal for int() with base 10: '1+1'\n",
      "Position[q to quit]?2+\n",
      "somthing else broke: invalid literal for int() with base 10: '2+'\n",
      "Position[q to quit]?2\n",
      "3\n",
      "Position[q to quit]?3\n",
      "Bad index: 3\n",
      "Position[q to quit]?4\n",
      "Bad index: 4\n",
      "Position[q to quit]?0\n",
      "1\n",
      "Position[q to quit]?q\n"
     ]
    }
   ],
   "source": [
    "while True:\n",
    "    value = input('Position[q to quit]?')\n",
    "    if value == 'q':\n",
    "        break\n",
    "    try:\n",
    "        position = int(value)\n",
    "        print(shortList[position])\n",
    "    except IndexError as err:\n",
    "        print('Bad index:', position)\n",
    "    except Exception as other:\n",
    "        print('somthing else broke:', other)"
   ]
  },
  {
   "cell_type": "markdown",
   "metadata": {},
   "source": [
    "### 製作自己的例外"
   ]
  },
  {
   "cell_type": "code",
   "execution_count": 115,
   "metadata": {},
   "outputs": [
    {
     "ename": "UppercaseException",
     "evalue": "MO",
     "output_type": "error",
     "traceback": [
      "\u001b[0;31m---------------------------------------------------------------------------\u001b[0m",
      "\u001b[0;31mUppercaseException\u001b[0m                        Traceback (most recent call last)",
      "\u001b[0;32m<ipython-input-115-98e643d4cf4e>\u001b[0m in \u001b[0;36m<module>\u001b[0;34m()\u001b[0m\n\u001b[1;32m      5\u001b[0m \u001b[0;32mfor\u001b[0m \u001b[0mword\u001b[0m \u001b[0;32min\u001b[0m \u001b[0mwords\u001b[0m\u001b[0;34m:\u001b[0m\u001b[0;34m\u001b[0m\u001b[0m\n\u001b[1;32m      6\u001b[0m     \u001b[0;32mif\u001b[0m \u001b[0mword\u001b[0m\u001b[0;34m.\u001b[0m\u001b[0misupper\u001b[0m\u001b[0;34m(\u001b[0m\u001b[0;34m)\u001b[0m\u001b[0;34m:\u001b[0m\u001b[0;34m\u001b[0m\u001b[0m\n\u001b[0;32m----> 7\u001b[0;31m         \u001b[0;32mraise\u001b[0m \u001b[0mUppercaseException\u001b[0m\u001b[0;34m(\u001b[0m\u001b[0mword\u001b[0m\u001b[0;34m)\u001b[0m\u001b[0;34m\u001b[0m\u001b[0m\n\u001b[0m",
      "\u001b[0;31mUppercaseException\u001b[0m: MO"
     ]
    }
   ],
   "source": [
    "class UppercaseException(Exception):\n",
    "    pass\n",
    "\n",
    "words = ['jieoqe','horiwhewi','ernbffh','MO']\n",
    "for word in words:\n",
    "    if word.isupper():\n",
    "        raise UppercaseException(word)"
   ]
  },
  {
   "cell_type": "code",
   "execution_count": 116,
   "metadata": {},
   "outputs": [
    {
     "ename": "NameError",
     "evalue": "name 'OopsException' is not defined",
     "output_type": "error",
     "traceback": [
      "\u001b[0;31m---------------------------------------------------------------------------\u001b[0m",
      "\u001b[0;31mNameError\u001b[0m                                 Traceback (most recent call last)",
      "\u001b[0;32m<ipython-input-116-b3956e5ba228>\u001b[0m in \u001b[0;36m<module>\u001b[0;34m()\u001b[0m\n\u001b[1;32m      1\u001b[0m \u001b[0;32mtry\u001b[0m\u001b[0;34m:\u001b[0m\u001b[0;34m\u001b[0m\u001b[0m\n\u001b[0;32m----> 2\u001b[0;31m     \u001b[0;32mraise\u001b[0m \u001b[0mOopsException\u001b[0m\u001b[0;34m(\u001b[0m\u001b[0;34m'panic'\u001b[0m\u001b[0;34m)\u001b[0m\u001b[0;34m\u001b[0m\u001b[0m\n\u001b[0m\u001b[1;32m      3\u001b[0m \u001b[0;32mexcept\u001b[0m \u001b[0mOopsException\u001b[0m \u001b[0;32mas\u001b[0m \u001b[0mexc\u001b[0m\u001b[0;34m:\u001b[0m\u001b[0;34m\u001b[0m\u001b[0m\n",
      "\u001b[0;31mNameError\u001b[0m: name 'OopsException' is not defined",
      "\nDuring handling of the above exception, another exception occurred:\n",
      "\u001b[0;31mNameError\u001b[0m                                 Traceback (most recent call last)",
      "\u001b[0;32m<ipython-input-116-b3956e5ba228>\u001b[0m in \u001b[0;36m<module>\u001b[0;34m()\u001b[0m\n\u001b[1;32m      1\u001b[0m \u001b[0;32mtry\u001b[0m\u001b[0;34m:\u001b[0m\u001b[0;34m\u001b[0m\u001b[0m\n\u001b[1;32m      2\u001b[0m     \u001b[0;32mraise\u001b[0m \u001b[0mOopsException\u001b[0m\u001b[0;34m(\u001b[0m\u001b[0;34m'panic'\u001b[0m\u001b[0;34m)\u001b[0m\u001b[0;34m\u001b[0m\u001b[0m\n\u001b[0;32m----> 3\u001b[0;31m \u001b[0;32mexcept\u001b[0m \u001b[0mOopsException\u001b[0m \u001b[0;32mas\u001b[0m \u001b[0mexc\u001b[0m\u001b[0;34m:\u001b[0m\u001b[0;34m\u001b[0m\u001b[0m\n\u001b[0m\u001b[1;32m      4\u001b[0m     \u001b[0mprint\u001b[0m\u001b[0;34m(\u001b[0m\u001b[0;34m'exc'\u001b[0m\u001b[0;34m)\u001b[0m\u001b[0;34m\u001b[0m\u001b[0m\n",
      "\u001b[0;31mNameError\u001b[0m: name 'OopsException' is not defined"
     ]
    }
   ],
   "source": [
    "try:\n",
    "    raise OopsException('panic')\n",
    "except OopsException as exc:\n",
    "    print('exc')"
   ]
  },
  {
   "cell_type": "code",
   "execution_count": null,
   "metadata": {},
   "outputs": [],
   "source": []
  }
 ],
 "metadata": {
  "kernelspec": {
   "display_name": "Python 3",
   "language": "python",
   "name": "python3"
  },
  "language_info": {
   "codemirror_mode": {
    "name": "ipython",
    "version": 3
   },
   "file_extension": ".py",
   "mimetype": "text/x-python",
   "name": "python",
   "nbconvert_exporter": "python",
   "pygments_lexer": "ipython3",
   "version": "3.6.5"
  }
 },
 "nbformat": 4,
 "nbformat_minor": 2
}
